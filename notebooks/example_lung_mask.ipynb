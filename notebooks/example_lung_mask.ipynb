{
 "cells": [
  {
   "cell_type": "code",
   "execution_count": 3,
   "metadata": {},
   "outputs": [],
   "source": [
    "from pathlib import Path\n",
    "\n",
    "thispath = Path('__file__').resolve()\n",
    "base_path = thispath.parent.parent\n",
    "import sys; sys.path.insert(0, str(base_path))\n",
    "from dataset.copd_dataset import DirLabCOPD\n",
    "\n",
    "import matplotlib.pyplot as plt\n",
    "from tqdm import tqdm"
   ]
  },
  {
   "cell_type": "code",
   "execution_count": 4,
   "metadata": {},
   "outputs": [],
   "source": [
    "import matplotlib.pyplot as plt\n",
    "\n",
    "data = DirLabCOPD(\n",
    "    data_path=base_path/'data',\n",
    "    cases=['all'],\n",
    "    partitions=['train'],\n",
    "    return_lm_mask=True,\n",
    "    normalization_cfg=None,\n",
    "    return_lung_masks=True\n",
    ")\n",
    "\n",
    "# for i in tqdm(range(len(data))):\n",
    "#     sample = data[i]\n",
    "#     plt.figure()\n",
    "#     plt.subplot(121)\n",
    "#     plt.imshow(sample['e_lung_mask'][:, :, 75])\n",
    "#     plt.subplot(122)\n",
    "#     plt.imshow(sample['i_lung_mask'][:, :, 75])\n",
    "#     plt.show()\n"
   ]
  }
 ],
 "metadata": {
  "kernelspec": {
   "display_name": "Python 3.9.13 ('mira_fp')",
   "language": "python",
   "name": "python3"
  },
  "language_info": {
   "codemirror_mode": {
    "name": "ipython",
    "version": 3
   },
   "file_extension": ".py",
   "mimetype": "text/x-python",
   "name": "python",
   "nbconvert_exporter": "python",
   "pygments_lexer": "ipython3",
   "version": "3.9.13"
  },
  "orig_nbformat": 4,
  "vscode": {
   "interpreter": {
    "hash": "88f7a4de3ef2058a2e13e032258b2d39a52d972958016348bb2928a62c97c1bd"
   }
  }
 },
 "nbformat": 4,
 "nbformat_minor": 2
}
