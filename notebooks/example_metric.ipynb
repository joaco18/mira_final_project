{
 "cells": [
  {
   "cell_type": "code",
   "execution_count": 1,
   "metadata": {},
   "outputs": [],
   "source": [
    "from pathlib import Path\n",
    "\n",
    "thispath = Path('__file__').resolve()\n",
    "base_path = thispath.parent.parent\n",
    "import sys; sys.path.insert(0, str(base_path))\n",
    "from dataset.copd_dataset import DirLabCOPD\n",
    "from utils import metrics"
   ]
  },
  {
   "cell_type": "code",
   "execution_count": 2,
   "metadata": {},
   "outputs": [],
   "source": [
    "data = DirLabCOPD(cases=['all'], partitions=['train', 'val', 'test'], return_lm_mask=True)"
   ]
  },
  {
   "cell_type": "code",
   "execution_count": 16,
   "metadata": {},
   "outputs": [
    {
     "name": "stdout",
     "output_type": "stream",
     "text": [
      "---------- copd1 ----------\n",
      "Provided displacement: 25.9 | 11.57\n",
      "Computed displacement: 26.33 | 11.42\n",
      "---------- copd10 ----------\n",
      "Provided displacement: 22.48 | 10.64\n",
      "Computed displacement: 21.81 | 10.49\n",
      "---------- copd2 ----------\n",
      "Provided displacement: 21.77 | 6.46\n",
      "Computed displacement: 21.79 | 6.46\n",
      "---------- copd3 ----------\n",
      "Provided displacement: 12.29 | 6.39\n",
      "Computed displacement: 12.64 | 6.38\n",
      "---------- copd4 ----------\n",
      "Provided displacement: 30.9 | 13.49\n",
      "Computed displacement: 29.58 | 12.92\n",
      "---------- copd5 ----------\n",
      "Provided displacement: 30.9 | 14.05\n",
      "Computed displacement: 30.08 | 13.34\n",
      "---------- copd6 ----------\n",
      "Provided displacement: 28.32 | 9.2\n",
      "Computed displacement: 28.46 | 9.15\n",
      "---------- copd7 ----------\n",
      "Provided displacement: 21.66 | 7.66\n",
      "Computed displacement: 21.6 | 7.73\n",
      "---------- copd8 ----------\n",
      "Provided displacement: 25.57 | 13.61\n",
      "Computed displacement: 26.46 | 13.22\n",
      "---------- copd9 ----------\n",
      "Provided displacement: 14.84 | 10.01\n",
      "Computed displacement: 14.66 | 9.8\n"
     ]
    }
   ],
   "source": [
    "import numpy as np\n",
    "\n",
    "for i in range(len(data)):\n",
    "    sample = data[i]\n",
    "    vox_size = sample['ref_metadata']['spacing']\n",
    "    m, s = metrics.target_registration_error(sample['i_landmark_pts'], sample['e_landmark_pts'], vox_size)\n",
    "    print(f'{\"-\"*10} {sample[\"case\"]} {\"-\"*10}')\n",
    "    print(f'Provided displacement: {sample[\"disp_mean\"]} | {sample[\"disp_std\"]}')\n",
    "    print(f'Computed displacement: {m} | {s}')"
   ]
  }
 ],
 "metadata": {
  "kernelspec": {
   "display_name": "Python 3.9.13 ('mira_fp')",
   "language": "python",
   "name": "python3"
  },
  "language_info": {
   "codemirror_mode": {
    "name": "ipython",
    "version": 3
   },
   "file_extension": ".py",
   "mimetype": "text/x-python",
   "name": "python",
   "nbconvert_exporter": "python",
   "pygments_lexer": "ipython3",
   "version": "3.9.13"
  },
  "orig_nbformat": 4,
  "vscode": {
   "interpreter": {
    "hash": "88f7a4de3ef2058a2e13e032258b2d39a52d972958016348bb2928a62c97c1bd"
   }
  }
 },
 "nbformat": 4,
 "nbformat_minor": 2
}
