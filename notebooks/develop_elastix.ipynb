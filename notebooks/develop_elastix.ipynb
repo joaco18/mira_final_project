{
 "cells": [
  {
   "cell_type": "code",
   "execution_count": 1,
   "metadata": {},
   "outputs": [],
   "source": [
    "from pathlib import Path\n",
    "\n",
    "thispath = Path('__file__').resolve()\n",
    "base_path = thispath.parent.parent\n",
    "import sys; sys.path.insert(0, str(base_path))\n",
    "from dataset.copd_dataset import DirLabCOPD"
   ]
  },
  {
   "cell_type": "code",
   "execution_count": 2,
   "metadata": {},
   "outputs": [],
   "source": [
    "from utils.metrics import target_registration_error\n",
    "import elastix.elastix_utils as e_utils\n",
    "from utils.utils import save_img_from_array_using_metadata, get_landmarks_array_from_txt_file\n",
    "import SimpleITK as sitk\n",
    "import pandas as pd\n",
    "from tqdm import tqdm\n",
    "import time\n",
    "import numpy as np\n",
    "\n",
    "def run_experiment(\n",
    "    dataset, param_maps_to_use, output_path, params_path, mask=None, experiment_name=None\n",
    "):\n",
    "    results = {}\n",
    "    for i in tqdm(range(len(dataset))):\n",
    "        sample = dataset[i]\n",
    "        # for pm in param_maps_to_use:\n",
    "        # Define output paths\n",
    "        pm = param_maps_to_use[-1]\n",
    "        output_pm_path = output_path / pm.rstrip('.txt') / experiment_name\n",
    "        output_pm_path.mkdir(exist_ok=True, parents=True)\n",
    "        # Read and modify parameters file\n",
    "        parameters_filename = params_path / pm \n",
    "        result_path = output_pm_path / sample['case']\n",
    "        result_path.mkdir(exist_ok=True, parents=True)\n",
    "        \n",
    "        # field_value_pairs = [('WriteResultImage', 'true'), ('ResultImageFormat', 'nii.gz')]\n",
    "        field_value_pairs = [\n",
    "            ('WriteResultImage', 'true'),\n",
    "            ('ResultImageFormat', 'nii.gz')\n",
    "        ]\n",
    "        e_utils.modify_field_parameter_map(field_value_pairs, parameters_filename)\n",
    "\n",
    "        # Create temporary image files with the preprocessings included and \n",
    "        # also for the selected binary masks.\n",
    "        res_path = result_path / 'res_tmp'\n",
    "        res_path.mkdir(exist_ok=True, parents=True)\n",
    "\n",
    "        param_maps_to_use_ = [str(params_path / p) for p in param_maps_to_use] \n",
    "        # Inhale\n",
    "        i_temp_path = res_path / 'i_img.nii.gz'\n",
    "        save_img_from_array_using_metadata(\n",
    "            np.moveaxis(sample['i_img'], [0,1,2], [2,1,0]), sample['ref_metadata'], i_temp_path)\n",
    "        i_body_mask_temp_path = res_path / 'i_body_mask_img.nii.gz'\n",
    "        save_img_from_array_using_metadata(\n",
    "            np.moveaxis(sample['i_body_mask'], [0,1,2], [2,1,0]), sample['ref_metadata'], i_body_mask_temp_path)\n",
    "        i_lungs_mask_temp_path = res_path / 'i_lungs_mask_img.nii.gz'\n",
    "        save_img_from_array_using_metadata(\n",
    "            np.moveaxis(sample['i_lung_mask'], [0,1,2], [2,1,0]), sample['ref_metadata'], i_lungs_mask_temp_path)\n",
    "\n",
    "        # Exhales\n",
    "        e_temp_path = res_path / 'e_img.nii.gz'\n",
    "        save_img_from_array_using_metadata(\n",
    "            np.moveaxis(sample['e_img'], [0,1,2], [2,1,0]), sample['ref_metadata'], e_temp_path)\n",
    "        e_body_mask_temp_path = res_path / 'e_body_mask_img.nii.gz'\n",
    "        save_img_from_array_using_metadata(\n",
    "            np.moveaxis(sample['e_body_mask'], [0,1,2], [2,1,0]), sample['ref_metadata'], e_body_mask_temp_path)\n",
    "        e_lungs_mask_temp_path = res_path / 'e_lungs_mask_img.nii.gz'\n",
    "        save_img_from_array_using_metadata(\n",
    "            np.moveaxis(sample['e_lung_mask'], [0,1,2], [2,1,0]), sample['ref_metadata'], e_lungs_mask_temp_path)\n",
    "\n",
    "        # Register\n",
    "        print(f\"Estimating transformation case {sample['case']}...\")\n",
    "        start = time.time()\n",
    "        if mask is None:\n",
    "            transform_map_path = e_utils.elastix_wrapper(\n",
    "                i_temp_path, e_temp_path, res_path.parent, param_maps_to_use_,\n",
    "                verbose=False, keep_just_useful_files=False\n",
    "            )\n",
    "        elif mask == 'body':\n",
    "            transform_map_path = e_utils.elastix_wrapper(\n",
    "                i_temp_path, e_temp_path, res_path.parent, param_maps_to_use_,\n",
    "                i_body_mask_temp_path, e_body_mask_temp_path, verbose=False,\n",
    "                keep_just_useful_files=False\n",
    "            )\n",
    "        else:\n",
    "            transform_map_path = e_utils.elastix_wrapper(\n",
    "                i_temp_path, e_temp_path, res_path.parent, param_maps_to_use_,\n",
    "                i_lungs_mask_temp_path, e_lungs_mask_temp_path, verbose=False,\n",
    "                keep_just_useful_files=False\n",
    "            )\n",
    "        reg_time = time.time()-start\n",
    "        case_path = Path(sample['i_img_path']).parent\n",
    "        \n",
    "        name = f\"{sample['case']}_300_iBH_xyz_r1.txt\"\n",
    "        lm_points_filepath = case_path / name\n",
    "        # Correct transformation parameters file\n",
    "        field_value_pairs = [\n",
    "            ('ResultImageFormat', 'nii.gz'),\n",
    "            ('ResultImagePixelType', \"float\"),\n",
    "            ('FinalBSplineInterpolationorder', '0')\n",
    "        ]\n",
    "        e_utils.modify_field_parameter_map(field_value_pairs, transform_map_path)\n",
    "        # Transform landmarks\n",
    "        print('Transforming points...')\n",
    "        lm_out_filepath = res_path.parent / f'r_{name}'\n",
    "        e_utils.transformix_wrapper(\n",
    "            lm_points_filepath, lm_out_filepath, transform_map_path,\n",
    "            points=True, verbose=False, keep_just_useful_files=False)\n",
    "        \n",
    "        # Transform lung_masks\n",
    "        print('Transforming lung mask...')\n",
    "        full_mask_original_path = Path(sample['e_full_mask_path'])\n",
    "        e_out_full_mask_temp_path = e_lungs_mask_temp_path.parent.parent / f'r_{full_mask_original_path.name}'\n",
    "        e_utils.transformix_wrapper(\n",
    "            full_mask_original_path, e_out_full_mask_temp_path, transform_map_path,\n",
    "            points=False, verbose=False, keep_just_useful_files=False)\n",
    "\n",
    "        # Get transformed landmarks positions\n",
    "        landmarks = pd.read_csv(lm_out_filepath, header=None, sep='\\t |\\t', engine='python')\n",
    "        landmarks.columns = ['point', 'idx', 'input_index', 'input_point', 'ouput_index', 'ouput_point', 'def']\n",
    "        landmarks_input = [lm[-4:-1] for lm in np.asarray(landmarks.input_index.str.split(' '))]\n",
    "        landmarks_input = np.asarray(landmarks_input).astype('int')\n",
    "\n",
    "        landmarks = get_landmarks_array_from_txt_file(lm_out_filepath)\n",
    "        \n",
    "        # Get the TRE\n",
    "        tre = target_registration_error(landmarks, sample['e_landmark_pts'], sample['ref_metadata']['spacing'])\n",
    "        print(f'TRE estimated: {tre[0]}, {tre[1]}')\n",
    "        print(f'Initial displacement GT: {sample[\"disp_mean\"]}, {sample[\"disp_mean\"]}')\n",
    "        results[sample['case']] = {\n",
    "            'mean_tre': tre[0],\n",
    "            'std_tre': tre[1],\n",
    "            'time': reg_time,\n",
    "        }\n",
    "    return results\n"
   ]
  },
  {
   "cell_type": "code",
   "execution_count": 3,
   "metadata": {},
   "outputs": [],
   "source": [
    "def run_preproc_experiment(norm_cfg, clahe, hist_match, exp_name):\n",
    "    data = DirLabCOPD(\n",
    "        data_path=base_path/'data',\n",
    "        cases=['all'],\n",
    "        partitions=['train'],\n",
    "        return_lm_mask=True,\n",
    "        normalization_cfg=norm_cfg,\n",
    "        return_body_masks=True,\n",
    "        return_lung_masks=True,\n",
    "        clahe=clahe,\n",
    "        histogram_matching=hist_match\n",
    "    )\n",
    "    with open(results_path, 'r') as json_file:\n",
    "        results = json.load(json_file)\n",
    "\n",
    "    param_maps_to_use = [\n",
    "        'Par0003.bs-R6-ug_8.txt'\n",
    "    ]\n",
    "\n",
    "    output_path = base_path / 'experiments/elastix'\n",
    "    params_path = base_path / 'elastix/parameter_maps/OUR'\n",
    "\n",
    "    # try:\n",
    "    results[exp_name] = \\\n",
    "        run_experiment(data, param_maps_to_use, output_path, params_path, 'lungs', exp_name)\n",
    "    # except:\n",
    "    #     results[exp_name] = None\n",
    "\n",
    "    with open(results_path, 'w') as json_file:\n",
    "        json.dump(results, json_file, indent=4, separators=(',', ': '))\n"
   ]
  },
  {
   "cell_type": "code",
   "execution_count": 4,
   "metadata": {},
   "outputs": [],
   "source": [
    "import json\n",
    "\n",
    "base_path = Path().resolve().parent\n",
    "\n",
    "results_path = base_path / 'experiments/elastix/results.json'\n",
    "# results = {}\n",
    "\n",
    "# with open(results_path, 'w') as json_file:\n",
    "#     json.dump(results, json_file, indent=4, separators=(',', ': '))"
   ]
  },
  {
   "cell_type": "code",
   "execution_count": 2,
   "metadata": {},
   "outputs": [],
   "source": [
    "NORMALIZATION_CFG = {\n",
    "    'norm_type': 'min-max',\n",
    "    'mask': None,\n",
    "    'max_val': 255,\n",
    "    'window': [-1024, 600],\n",
    "    'dtype': 'uint8',\n",
    "}\n",
    "\n",
    "data = DirLabCOPD(\n",
    "    data_path=base_path/'data',\n",
    "    cases=['all'],\n",
    "    partitions=['train'],\n",
    "    return_lm_mask=True,\n",
    "    normalization_cfg=None,\n",
    "    return_body_masks=True,\n",
    "    return_lung_masks=True\n",
    ")"
   ]
  },
  {
   "cell_type": "code",
   "execution_count": 5,
   "metadata": {},
   "outputs": [
    {
     "name": "stdout",
     "output_type": "stream",
     "text": [
      "Estimating transformation case copd1...\n",
      "Transforming points...\n",
      "Transforming lung mask...\n",
      "TRE estimated: 8.8, 4.81\n",
      "Initial displacement GT: 25.9, 25.9\n",
      "Estimating transformation case copd2...\n",
      "Transforming points...\n",
      "Transforming lung mask...\n",
      "TRE estimated: 13.15, 6.29\n",
      "Initial displacement GT: 21.77, 21.77\n",
      "Estimating transformation case copd3...\n",
      "Transforming points...\n",
      "Transforming lung mask...\n",
      "TRE estimated: 4.91, 2.97\n",
      "Initial displacement GT: 12.29, 12.29\n",
      "Estimating transformation case copd4...\n",
      "Transforming points...\n",
      "Transforming lung mask...\n",
      "TRE estimated: 9.86, 4.04\n",
      "Initial displacement GT: 30.9, 30.9\n"
     ]
    }
   ],
   "source": [
    "with open(results_path, 'r') as json_file:\n",
    "    results = json.load(json_file)\n",
    "\n",
    "param_maps_to_use = [\n",
    "    'Parameters.MI.Coarse.Bspline_tuned.txt',\n",
    "    # 'Parameters.MI.Fine.Bspline_tuned.txt',\n",
    "    # 'Parameters.MI.RP.Bspline_tuned.txt'\n",
    "]\n",
    "\n",
    "output_path = base_path / 'experiments/elastix'\n",
    "params_path = base_path / 'elastix/parameter_maps/Par0007'\n",
    "experiment_name = 'P0007-Coarse-None-None'\n",
    "results[experiment_name] = \\\n",
    "    run_experiment(data, param_maps_to_use, output_path, params_path, None, experiment_name)\n",
    "\n",
    "with open(results_path, 'w') as json_file:\n",
    "    json.dump(results, json_file, indent=4, separators=(',', ': '))"
   ]
  },
  {
   "cell_type": "code",
   "execution_count": 21,
   "metadata": {},
   "outputs": [
    {
     "name": "stderr",
     "output_type": "stream",
     "text": [
      "  0%|          | 0/4 [00:00<?, ?it/s]"
     ]
    },
    {
     "name": "stdout",
     "output_type": "stream",
     "text": [
      "Estimating transformation case copd1...\n",
      "Transforming points...\n"
     ]
    },
    {
     "name": "stderr",
     "output_type": "stream",
     "text": [
      " 25%|██▌       | 1/4 [01:55<05:46, 115.50s/it]"
     ]
    },
    {
     "name": "stdout",
     "output_type": "stream",
     "text": [
      "TRE estimated: 8.79, 4.82\n",
      "Initial displacement GT: 25.9, 25.9\n",
      "Estimating transformation case copd2...\n",
      "Transforming points...\n"
     ]
    },
    {
     "name": "stderr",
     "output_type": "stream",
     "text": [
      " 50%|█████     | 2/4 [03:37<03:35, 107.75s/it]"
     ]
    },
    {
     "name": "stdout",
     "output_type": "stream",
     "text": [
      "TRE estimated: 13.15, 6.28\n",
      "Initial displacement GT: 21.77, 21.77\n",
      "Estimating transformation case copd3...\n",
      "Transforming points...\n"
     ]
    },
    {
     "name": "stderr",
     "output_type": "stream",
     "text": [
      " 75%|███████▌  | 3/4 [05:33<01:51, 111.53s/it]"
     ]
    },
    {
     "name": "stdout",
     "output_type": "stream",
     "text": [
      "TRE estimated: 4.89, 2.98\n",
      "Initial displacement GT: 12.29, 12.29\n",
      "Estimating transformation case copd4...\n",
      "Transforming points...\n"
     ]
    },
    {
     "name": "stderr",
     "output_type": "stream",
     "text": [
      "100%|██████████| 4/4 [07:31<00:00, 112.81s/it]"
     ]
    },
    {
     "name": "stdout",
     "output_type": "stream",
     "text": [
      "TRE estimated: 9.84, 4.06\n",
      "Initial displacement GT: 30.9, 30.9\n"
     ]
    },
    {
     "name": "stderr",
     "output_type": "stream",
     "text": [
      "\n"
     ]
    }
   ],
   "source": [
    "with open(results_path, 'r') as json_file:\n",
    "    results = json.load(json_file)\n",
    "\n",
    "param_maps_to_use = [\n",
    "    'Parameters.MI.Coarse.Bspline_tuned.txt',\n",
    "    'Parameters.MI.Fine.Bspline_tuned.txt',\n",
    "    # 'Parameters.MI.RP.Bspline_tuned.txt'\n",
    "]\n",
    "\n",
    "output_path = base_path / 'experiments/elastix'\n",
    "params_path = base_path / 'elastix/parameter_maps/Par0007'\n",
    "experiment_name = 'P0007-Coarse+Fine-None-None'\n",
    "\n",
    "try:\n",
    "    results[experiment_name] = \\\n",
    "        run_experiment(data, param_maps_to_use, output_path, params_path, None, experiment_name)\n",
    "except:\n",
    "    results[experiment_name] = None\n",
    "\n",
    "with open(results_path, 'w') as json_file:\n",
    "    json.dump(results, json_file, indent=4, separators=(',', ': '))"
   ]
  },
  {
   "cell_type": "code",
   "execution_count": 5,
   "metadata": {},
   "outputs": [
    {
     "name": "stderr",
     "output_type": "stream",
     "text": [
      "  0%|          | 0/4 [00:00<?, ?it/s]"
     ]
    },
    {
     "name": "stdout",
     "output_type": "stream",
     "text": [
      "Estimating transformation case copd1...\n",
      "Transforming points...\n"
     ]
    },
    {
     "name": "stderr",
     "output_type": "stream",
     "text": [
      " 25%|██▌       | 1/4 [03:36<10:49, 216.66s/it]"
     ]
    },
    {
     "name": "stdout",
     "output_type": "stream",
     "text": [
      "TRE estimated: 7.49, 5.16\n",
      "Initial displacement GT: 25.9, 25.9\n",
      "Estimating transformation case copd2...\n",
      "Transforming points...\n"
     ]
    },
    {
     "name": "stderr",
     "output_type": "stream",
     "text": [
      " 50%|█████     | 2/4 [06:55<06:51, 205.91s/it]"
     ]
    },
    {
     "name": "stdout",
     "output_type": "stream",
     "text": [
      "TRE estimated: 14.15, 7.2\n",
      "Initial displacement GT: 21.77, 21.77\n",
      "Estimating transformation case copd3...\n",
      "Transforming points...\n"
     ]
    },
    {
     "name": "stderr",
     "output_type": "stream",
     "text": [
      " 75%|███████▌  | 3/4 [10:35<03:32, 212.64s/it]"
     ]
    },
    {
     "name": "stdout",
     "output_type": "stream",
     "text": [
      "TRE estimated: 4.84, 3.0\n",
      "Initial displacement GT: 12.29, 12.29\n",
      "Estimating transformation case copd4...\n",
      "Transforming points...\n"
     ]
    },
    {
     "name": "stderr",
     "output_type": "stream",
     "text": [
      "100%|██████████| 4/4 [14:19<00:00, 214.89s/it]"
     ]
    },
    {
     "name": "stdout",
     "output_type": "stream",
     "text": [
      "TRE estimated: 8.61, 3.72\n",
      "Initial displacement GT: 30.9, 30.9\n"
     ]
    },
    {
     "name": "stderr",
     "output_type": "stream",
     "text": [
      "\n"
     ]
    }
   ],
   "source": [
    "with open(results_path, 'r') as json_file:\n",
    "    results = json.load(json_file)\n",
    "\n",
    "param_maps_to_use = [\n",
    "    'Parameters.MI.Coarse.Bspline_tuned.txt',\n",
    "    'Parameters.MI.Fine.Bspline_tuned.txt',\n",
    "    'Parameters.MI.RP.Bspline_tuned.txt'\n",
    "]\n",
    "\n",
    "output_path = base_path / 'experiments/elastix'\n",
    "params_path = base_path / 'elastix/parameter_maps/Par0007'\n",
    "experiment_name = 'P0007-Coarse+Fine+RP-None-None'\n",
    "\n",
    "try:\n",
    "    results[experiment_name] = \\\n",
    "        run_experiment(data, param_maps_to_use, output_path, params_path, None)\n",
    "except:\n",
    "    results[experiment_name] = None\n",
    "\n",
    "\n",
    "with open(results_path, 'w') as json_file:\n",
    "    json.dump(results, json_file, indent=4, separators=(',', ': '))"
   ]
  },
  {
   "cell_type": "code",
   "execution_count": 6,
   "metadata": {},
   "outputs": [
    {
     "name": "stderr",
     "output_type": "stream",
     "text": [
      "  0%|          | 0/4 [00:00<?, ?it/s]"
     ]
    },
    {
     "name": "stdout",
     "output_type": "stream",
     "text": [
      "Estimating transformation case copd1...\n",
      "Transforming points...\n"
     ]
    },
    {
     "name": "stderr",
     "output_type": "stream",
     "text": [
      " 25%|██▌       | 1/4 [01:51<05:34, 111.41s/it]"
     ]
    },
    {
     "name": "stdout",
     "output_type": "stream",
     "text": [
      "TRE estimated: 7.57, 5.42\n",
      "Initial displacement GT: 25.9, 25.9\n",
      "Estimating transformation case copd2...\n",
      "Transforming points...\n"
     ]
    },
    {
     "name": "stderr",
     "output_type": "stream",
     "text": [
      " 50%|█████     | 2/4 [03:30<03:28, 104.39s/it]"
     ]
    },
    {
     "name": "stdout",
     "output_type": "stream",
     "text": [
      "TRE estimated: 11.86, 6.22\n",
      "Initial displacement GT: 21.77, 21.77\n",
      "Estimating transformation case copd3...\n",
      "Transforming points...\n"
     ]
    },
    {
     "name": "stderr",
     "output_type": "stream",
     "text": [
      " 75%|███████▌  | 3/4 [05:24<01:48, 108.56s/it]"
     ]
    },
    {
     "name": "stdout",
     "output_type": "stream",
     "text": [
      "TRE estimated: 4.53, 2.83\n",
      "Initial displacement GT: 12.29, 12.29\n",
      "Estimating transformation case copd4...\n",
      "Transforming points...\n"
     ]
    },
    {
     "name": "stderr",
     "output_type": "stream",
     "text": [
      "100%|██████████| 4/4 [07:21<00:00, 110.35s/it]"
     ]
    },
    {
     "name": "stdout",
     "output_type": "stream",
     "text": [
      "TRE estimated: 7.48, 3.78\n",
      "Initial displacement GT: 30.9, 30.9\n"
     ]
    },
    {
     "name": "stderr",
     "output_type": "stream",
     "text": [
      "\n"
     ]
    }
   ],
   "source": [
    "with open(results_path, 'r') as json_file:\n",
    "    results = json.load(json_file)\n",
    "\n",
    "param_maps_to_use = [\n",
    "    'Parameters.MI.Coarse.Bspline_tuned.txt',\n",
    "    'Parameters.MI.Fine.Bspline_tuned.txt'\n",
    "]\n",
    "\n",
    "output_path = base_path / 'experiments/elastix'\n",
    "params_path = base_path / 'elastix/parameter_maps/Par0007'\n",
    "experiment_name = 'P0007-Coarse+Fine-Body-None'\n",
    "try:\n",
    "    results[experiment_name] = \\\n",
    "        run_experiment(data, param_maps_to_use, output_path, params_path, 'body')\n",
    "except:\n",
    "    results[experiment_name] = None\n",
    "\n",
    "with open(results_path, 'w') as json_file:\n",
    "    json.dump(results, json_file, indent=4, separators=(',', ': '))"
   ]
  },
  {
   "cell_type": "code",
   "execution_count": 7,
   "metadata": {},
   "outputs": [
    {
     "name": "stderr",
     "output_type": "stream",
     "text": [
      "  0%|          | 0/4 [00:00<?, ?it/s]"
     ]
    },
    {
     "name": "stdout",
     "output_type": "stream",
     "text": [
      "Estimating transformation case copd1...\n",
      "Transforming points...\n"
     ]
    },
    {
     "name": "stderr",
     "output_type": "stream",
     "text": [
      " 25%|██▌       | 1/4 [01:56<05:50, 116.77s/it]"
     ]
    },
    {
     "name": "stdout",
     "output_type": "stream",
     "text": [
      "TRE estimated: 4.12, 3.45\n",
      "Initial displacement GT: 25.9, 25.9\n",
      "Estimating transformation case copd2...\n",
      "Transforming points...\n"
     ]
    },
    {
     "name": "stderr",
     "output_type": "stream",
     "text": [
      " 50%|█████     | 2/4 [03:37<03:35, 107.51s/it]"
     ]
    },
    {
     "name": "stdout",
     "output_type": "stream",
     "text": [
      "TRE estimated: 6.61, 6.27\n",
      "Initial displacement GT: 21.77, 21.77\n",
      "Estimating transformation case copd3...\n",
      "Transforming points...\n"
     ]
    },
    {
     "name": "stderr",
     "output_type": "stream",
     "text": [
      " 75%|███████▌  | 3/4 [05:38<01:53, 113.37s/it]"
     ]
    },
    {
     "name": "stdout",
     "output_type": "stream",
     "text": [
      "TRE estimated: 1.79, 1.42\n",
      "Initial displacement GT: 12.29, 12.29\n",
      "Estimating transformation case copd4...\n",
      "Transforming points...\n"
     ]
    },
    {
     "name": "stderr",
     "output_type": "stream",
     "text": [
      "100%|██████████| 4/4 [07:33<00:00, 113.39s/it]"
     ]
    },
    {
     "name": "stdout",
     "output_type": "stream",
     "text": [
      "TRE estimated: 4.73, 3.15\n",
      "Initial displacement GT: 30.9, 30.9\n"
     ]
    },
    {
     "name": "stderr",
     "output_type": "stream",
     "text": [
      "\n"
     ]
    }
   ],
   "source": [
    "with open(results_path, 'r') as json_file:\n",
    "    results = json.load(json_file)\n",
    "\n",
    "param_maps_to_use = [\n",
    "    'Parameters.MI.Coarse.Bspline_tuned.txt',\n",
    "    'Parameters.MI.Fine.Bspline_tuned.txt'\n",
    "]\n",
    "\n",
    "output_path = base_path / 'experiments/elastix'\n",
    "params_path = base_path / 'elastix/parameter_maps/Par0007'\n",
    "experiment_name = 'P0007-Coarse+Fine-Lungs-None'\n",
    "try:\n",
    "    results[experiment_name] = \\\n",
    "        run_experiment(data, param_maps_to_use, output_path, params_path, 'lungs', experiment_name)\n",
    "except:\n",
    "    results[experiment_name] = None\n",
    "\n",
    "with open(results_path, 'w') as json_file:\n",
    "    json.dump(results, json_file, indent=4, separators=(',', ': '))"
   ]
  },
  {
   "cell_type": "code",
   "execution_count": 8,
   "metadata": {},
   "outputs": [
    {
     "name": "stderr",
     "output_type": "stream",
     "text": [
      "  0%|          | 0/4 [00:00<?, ?it/s]"
     ]
    },
    {
     "name": "stdout",
     "output_type": "stream",
     "text": [
      "Estimating transformation case copd1...\n",
      "Transforming points...\n"
     ]
    },
    {
     "name": "stderr",
     "output_type": "stream",
     "text": [
      " 25%|██▌       | 1/4 [04:11<12:33, 251.32s/it]"
     ]
    },
    {
     "name": "stdout",
     "output_type": "stream",
     "text": [
      "TRE estimated: 5.49, 5.14\n",
      "Initial displacement GT: 25.9, 25.9\n",
      "Estimating transformation case copd2...\n",
      "Transforming points...\n"
     ]
    },
    {
     "name": "stderr",
     "output_type": "stream",
     "text": [
      " 50%|█████     | 2/4 [08:07<08:04, 242.18s/it]"
     ]
    },
    {
     "name": "stdout",
     "output_type": "stream",
     "text": [
      "TRE estimated: 9.7, 6.48\n",
      "Initial displacement GT: 21.77, 21.77\n",
      "Estimating transformation case copd3...\n",
      "Transforming points...\n"
     ]
    },
    {
     "name": "stderr",
     "output_type": "stream",
     "text": [
      " 75%|███████▌  | 3/4 [12:40<04:16, 256.42s/it]"
     ]
    },
    {
     "name": "stdout",
     "output_type": "stream",
     "text": [
      "TRE estimated: 3.36, 3.32\n",
      "Initial displacement GT: 12.29, 12.29\n",
      "Estimating transformation case copd4...\n",
      "Transforming points...\n"
     ]
    },
    {
     "name": "stderr",
     "output_type": "stream",
     "text": [
      "100%|██████████| 4/4 [17:13<00:00, 258.30s/it]"
     ]
    },
    {
     "name": "stdout",
     "output_type": "stream",
     "text": [
      "TRE estimated: 7.17, 4.97\n",
      "Initial displacement GT: 30.9, 30.9\n"
     ]
    },
    {
     "name": "stderr",
     "output_type": "stream",
     "text": [
      "\n"
     ]
    }
   ],
   "source": [
    "with open(results_path, 'r') as json_file:\n",
    "    results = json.load(json_file)\n",
    "\n",
    "param_maps_to_use = ['BSP.txt']\n",
    "output_path = base_path / 'experiments/elastix'\n",
    "params_path = base_path / 'elastix/parameter_maps/BSP'\n",
    "experiment_name = 'BSP-bsplines-None-None'\n",
    "try:\n",
    "    results[experiment_name] = \\\n",
    "        run_experiment(data, param_maps_to_use, output_path, params_path, None, experiment_name)\n",
    "except:\n",
    "    results[experiment_name] = None\n",
    "\n",
    "with open(results_path, 'w') as json_file:\n",
    "    json.dump(results, json_file, indent=4, separators=(',', ': '))"
   ]
  },
  {
   "cell_type": "code",
   "execution_count": 9,
   "metadata": {},
   "outputs": [
    {
     "name": "stderr",
     "output_type": "stream",
     "text": [
      "  0%|          | 0/4 [00:00<?, ?it/s]"
     ]
    },
    {
     "name": "stdout",
     "output_type": "stream",
     "text": [
      "Estimating transformation case copd1...\n",
      "Transforming points...\n"
     ]
    },
    {
     "name": "stderr",
     "output_type": "stream",
     "text": [
      " 25%|██▌       | 1/4 [04:27<13:22, 267.42s/it]"
     ]
    },
    {
     "name": "stdout",
     "output_type": "stream",
     "text": [
      "TRE estimated: 3.24, 3.59\n",
      "Initial displacement GT: 25.9, 25.9\n",
      "Estimating transformation case copd2...\n",
      "Transforming points...\n"
     ]
    },
    {
     "name": "stderr",
     "output_type": "stream",
     "text": [
      " 50%|█████     | 2/4 [08:40<08:38, 259.18s/it]"
     ]
    },
    {
     "name": "stdout",
     "output_type": "stream",
     "text": [
      "TRE estimated: 7.89, 6.79\n",
      "Initial displacement GT: 21.77, 21.77\n",
      "Estimating transformation case copd3...\n",
      "Transforming points...\n"
     ]
    },
    {
     "name": "stderr",
     "output_type": "stream",
     "text": [
      " 75%|███████▌  | 3/4 [13:07<04:22, 262.52s/it]"
     ]
    },
    {
     "name": "stdout",
     "output_type": "stream",
     "text": [
      "TRE estimated: 2.76, 2.95\n",
      "Initial displacement GT: 12.29, 12.29\n",
      "Estimating transformation case copd4...\n",
      "Transforming points...\n"
     ]
    },
    {
     "name": "stderr",
     "output_type": "stream",
     "text": [
      "100%|██████████| 4/4 [17:37<00:00, 264.34s/it]"
     ]
    },
    {
     "name": "stdout",
     "output_type": "stream",
     "text": [
      "TRE estimated: 6.79, 6.41\n",
      "Initial displacement GT: 30.9, 30.9\n"
     ]
    },
    {
     "name": "stderr",
     "output_type": "stream",
     "text": [
      "\n"
     ]
    }
   ],
   "source": [
    "with open(results_path, 'r') as json_file:\n",
    "    results = json.load(json_file)\n",
    "\n",
    "param_maps_to_use = ['BSP.txt']\n",
    "output_path = base_path / 'experiments/elastix'\n",
    "params_path = base_path / 'elastix/parameter_maps/BSP'\n",
    "experiment_name = 'BSP-bsplines-Body-None'\n",
    "try:\n",
    "    results[experiment_name] = \\\n",
    "        run_experiment(data, param_maps_to_use, output_path, params_path, 'body', experiment_name)\n",
    "except:\n",
    "    results[experiment_name] = None\n",
    "\n",
    "with open(results_path, 'w') as json_file:\n",
    "    json.dump(results, json_file, indent=4, separators=(',', ': '))"
   ]
  },
  {
   "cell_type": "code",
   "execution_count": 6,
   "metadata": {},
   "outputs": [
    {
     "name": "stdout",
     "output_type": "stream",
     "text": [
      "Estimating transformation case copd1...\n",
      "Transforming points...\n",
      "Transforming lung mask...\n",
      "TRE estimated: 1.11, 1.05\n",
      "Initial displacement GT: 25.9, 25.9\n",
      "Estimating transformation case copd2...\n",
      "Transforming points...\n",
      "Transforming lung mask...\n",
      "TRE estimated: 2.12, 2.62\n",
      "Initial displacement GT: 21.77, 21.77\n",
      "Estimating transformation case copd3...\n",
      "Transforming points...\n",
      "Transforming lung mask...\n",
      "TRE estimated: 1.11, 1.0\n",
      "Initial displacement GT: 12.29, 12.29\n",
      "Estimating transformation case copd4...\n",
      "Transforming points...\n",
      "Transforming lung mask...\n",
      "TRE estimated: 1.39, 1.11\n",
      "Initial displacement GT: 30.9, 30.9\n"
     ]
    }
   ],
   "source": [
    "with open(results_path, 'r') as json_file:\n",
    "    results = json.load(json_file)\n",
    "\n",
    "param_maps_to_use = ['BSP.txt']\n",
    "output_path = base_path / 'experiments/elastix'\n",
    "params_path = base_path / 'elastix/parameter_maps/BSP'\n",
    "experiment_name = 'BSP-bsplines-Lungs-None'\n",
    "try:\n",
    "    results[experiment_name] = \\\n",
    "        run_experiment(data, param_maps_to_use, output_path, params_path, 'lungs', experiment_name)\n",
    "except:\n",
    "    results[experiment_name] = None\n",
    "\n",
    "with open(results_path, 'w') as json_file:\n",
    "    json.dump(results, json_file, indent=4, separators=(',', ': '))"
   ]
  },
  {
   "cell_type": "code",
   "execution_count": 11,
   "metadata": {},
   "outputs": [
    {
     "name": "stderr",
     "output_type": "stream",
     "text": [
      "  0%|          | 0/4 [00:00<?, ?it/s]"
     ]
    },
    {
     "name": "stdout",
     "output_type": "stream",
     "text": [
      "Estimating transformation case copd1...\n"
     ]
    },
    {
     "name": "stderr",
     "output_type": "stream",
     "text": [
      "  0%|          | 0/4 [00:18<?, ?it/s]\n"
     ]
    }
   ],
   "source": [
    "with open(results_path, 'r') as json_file:\n",
    "    results = json.load(json_file)\n",
    "\n",
    "param_maps_to_use = [\n",
    "    'Parameters.Par0008.affine.txt',\n",
    "]\n",
    "output_path = base_path / 'experiments/elastix'\n",
    "params_path = base_path / 'elastix/parameter_maps/Par0008'\n",
    "experiment_name = 'P0008-affine-None-None'\n",
    "try:\n",
    "    results[experiment_name] = \\\n",
    "        run_experiment(data, param_maps_to_use, output_path, params_path, None, experiment_name)\n",
    "except:\n",
    "    results[experiment_name] = None\n",
    "\n",
    "with open(results_path, 'w') as json_file:\n",
    "    json.dump(results, json_file, indent=4, separators=(',', ': '))"
   ]
  },
  {
   "cell_type": "code",
   "execution_count": 12,
   "metadata": {},
   "outputs": [
    {
     "name": "stderr",
     "output_type": "stream",
     "text": [
      "  0%|          | 0/4 [00:00<?, ?it/s]"
     ]
    },
    {
     "name": "stdout",
     "output_type": "stream",
     "text": [
      "Estimating transformation case copd1...\n"
     ]
    },
    {
     "name": "stderr",
     "output_type": "stream",
     "text": [
      " 25%|██▌       | 1/4 [00:33<01:40, 33.59s/it]"
     ]
    },
    {
     "name": "stdout",
     "output_type": "stream",
     "text": [
      "Transforming points...\n",
      "TRE estimated: 12.3, 4.89\n",
      "Initial displacement GT: 25.9, 25.9\n",
      "Estimating transformation case copd2...\n"
     ]
    },
    {
     "name": "stderr",
     "output_type": "stream",
     "text": [
      " 50%|█████     | 2/4 [01:02<01:01, 30.69s/it]"
     ]
    },
    {
     "name": "stdout",
     "output_type": "stream",
     "text": [
      "Transforming points...\n",
      "TRE estimated: 16.88, 5.74\n",
      "Initial displacement GT: 21.77, 21.77\n",
      "Estimating transformation case copd3...\n"
     ]
    },
    {
     "name": "stderr",
     "output_type": "stream",
     "text": [
      " 75%|███████▌  | 3/4 [01:36<00:32, 32.45s/it]"
     ]
    },
    {
     "name": "stdout",
     "output_type": "stream",
     "text": [
      "Transforming points...\n",
      "TRE estimated: 5.38, 3.28\n",
      "Initial displacement GT: 12.29, 12.29\n",
      "Estimating transformation case copd4...\n"
     ]
    },
    {
     "name": "stderr",
     "output_type": "stream",
     "text": [
      "100%|██████████| 4/4 [02:11<00:00, 32.80s/it]"
     ]
    },
    {
     "name": "stdout",
     "output_type": "stream",
     "text": [
      "Transforming points...\n",
      "TRE estimated: 9.41, 3.73\n",
      "Initial displacement GT: 30.9, 30.9\n"
     ]
    },
    {
     "name": "stderr",
     "output_type": "stream",
     "text": [
      "\n"
     ]
    }
   ],
   "source": [
    "with open(results_path, 'r') as json_file:\n",
    "    results = json.load(json_file)\n",
    "\n",
    "param_maps_to_use = [\n",
    "    'Parameters.Par0008.affine.txt',\n",
    "]\n",
    "output_path = base_path / 'experiments/elastix'\n",
    "params_path = base_path / 'elastix/parameter_maps/Par0008'\n",
    "experiment_name = 'P0008-affine-Body-None'\n",
    "try:\n",
    "    results[experiment_name] = \\\n",
    "        run_experiment(data, param_maps_to_use, output_path, params_path, 'body', experiment_name)\n",
    "except:\n",
    "    results[experiment_name] = None\n",
    "\n",
    "with open(results_path, 'w') as json_file:\n",
    "    json.dump(results, json_file, indent=4, separators=(',', ': '))"
   ]
  },
  {
   "cell_type": "code",
   "execution_count": 13,
   "metadata": {},
   "outputs": [
    {
     "name": "stderr",
     "output_type": "stream",
     "text": [
      "  0%|          | 0/4 [00:00<?, ?it/s]"
     ]
    },
    {
     "name": "stdout",
     "output_type": "stream",
     "text": [
      "Estimating transformation case copd1...\n"
     ]
    },
    {
     "name": "stderr",
     "output_type": "stream",
     "text": [
      " 25%|██▌       | 1/4 [00:37<01:51, 37.27s/it]"
     ]
    },
    {
     "name": "stdout",
     "output_type": "stream",
     "text": [
      "Transforming points...\n",
      "TRE estimated: 9.23, 5.16\n",
      "Initial displacement GT: 25.9, 25.9\n",
      "Estimating transformation case copd2...\n"
     ]
    },
    {
     "name": "stderr",
     "output_type": "stream",
     "text": [
      " 50%|█████     | 2/4 [01:06<01:04, 32.28s/it]"
     ]
    },
    {
     "name": "stdout",
     "output_type": "stream",
     "text": [
      "Transforming points...\n",
      "TRE estimated: 10.82, 5.89\n",
      "Initial displacement GT: 21.77, 21.77\n",
      "Estimating transformation case copd3...\n"
     ]
    },
    {
     "name": "stderr",
     "output_type": "stream",
     "text": [
      " 75%|███████▌  | 3/4 [01:42<00:34, 34.22s/it]"
     ]
    },
    {
     "name": "stdout",
     "output_type": "stream",
     "text": [
      "Transforming points...\n",
      "TRE estimated: 3.46, 1.72\n",
      "Initial displacement GT: 12.29, 12.29\n",
      "Estimating transformation case copd4...\n"
     ]
    },
    {
     "name": "stderr",
     "output_type": "stream",
     "text": [
      " 75%|███████▌  | 3/4 [02:05<00:41, 41.76s/it]\n"
     ]
    }
   ],
   "source": [
    "with open(results_path, 'r') as json_file:\n",
    "    results = json.load(json_file)\n",
    "\n",
    "param_maps_to_use = [\n",
    "    'Parameters.Par0008.affine.txt',\n",
    "]\n",
    "output_path = base_path / 'experiments/elastix'\n",
    "params_path = base_path / 'elastix/parameter_maps/Par0008'\n",
    "experiment_name = 'P0008-affine-Lungs-None'\n",
    "try:\n",
    "    results[experiment_name] = \\\n",
    "        run_experiment(data, param_maps_to_use, output_path, params_path, 'lungs', experiment_name)\n",
    "except:\n",
    "    results[experiment_name] = None\n",
    "\n",
    "with open(results_path, 'w') as json_file:\n",
    "    json.dump(results, json_file, indent=4, separators=(',', ': '))"
   ]
  },
  {
   "cell_type": "code",
   "execution_count": 14,
   "metadata": {},
   "outputs": [
    {
     "name": "stderr",
     "output_type": "stream",
     "text": [
      "  0%|          | 0/4 [00:00<?, ?it/s]"
     ]
    },
    {
     "name": "stdout",
     "output_type": "stream",
     "text": [
      "Estimating transformation case copd1...\n"
     ]
    },
    {
     "name": "stderr",
     "output_type": "stream",
     "text": [
      "  0%|          | 0/4 [00:18<?, ?it/s]\n"
     ]
    }
   ],
   "source": [
    "with open(results_path, 'r') as json_file:\n",
    "    results = json.load(json_file)\n",
    "\n",
    "param_maps_to_use = [\n",
    "    'Parameters.Par0008.affine.txt',\n",
    "    'Parameters.Par0008.elastic.txt'\n",
    "]\n",
    "output_path = base_path / 'experiments/elastix'\n",
    "params_path = base_path / 'elastix/parameter_maps/Par0008'\n",
    "experiment_name = 'P0008-affine+elastic-None-None'\n",
    "try:\n",
    "    results[experiment_name] = \\\n",
    "        run_experiment(data, param_maps_to_use, output_path, params_path, None, experiment_name)\n",
    "except:\n",
    "    results[experiment_name] = None\n",
    "\n",
    "with open(results_path, 'w') as json_file:\n",
    "    json.dump(results, json_file, indent=4, separators=(',', ': '))"
   ]
  },
  {
   "cell_type": "code",
   "execution_count": 15,
   "metadata": {},
   "outputs": [
    {
     "name": "stderr",
     "output_type": "stream",
     "text": [
      "  0%|          | 0/4 [00:00<?, ?it/s]"
     ]
    },
    {
     "name": "stdout",
     "output_type": "stream",
     "text": [
      "Estimating transformation case copd1...\n",
      "Transforming points...\n"
     ]
    },
    {
     "name": "stderr",
     "output_type": "stream",
     "text": [
      " 25%|██▌       | 1/4 [01:14<03:42, 74.18s/it]"
     ]
    },
    {
     "name": "stdout",
     "output_type": "stream",
     "text": [
      "TRE estimated: 9.85, 5.11\n",
      "Initial displacement GT: 25.9, 25.9\n",
      "Estimating transformation case copd2...\n",
      "Transforming points...\n"
     ]
    },
    {
     "name": "stderr",
     "output_type": "stream",
     "text": [
      " 50%|█████     | 2/4 [02:20<02:19, 69.56s/it]"
     ]
    },
    {
     "name": "stdout",
     "output_type": "stream",
     "text": [
      "TRE estimated: 13.01, 7.01\n",
      "Initial displacement GT: 21.77, 21.77\n",
      "Estimating transformation case copd3...\n",
      "Transforming points...\n"
     ]
    },
    {
     "name": "stderr",
     "output_type": "stream",
     "text": [
      " 75%|███████▌  | 3/4 [03:37<01:13, 73.08s/it]"
     ]
    },
    {
     "name": "stdout",
     "output_type": "stream",
     "text": [
      "TRE estimated: 3.6, 2.92\n",
      "Initial displacement GT: 12.29, 12.29\n",
      "Estimating transformation case copd4...\n",
      "Transforming points...\n"
     ]
    },
    {
     "name": "stderr",
     "output_type": "stream",
     "text": [
      "100%|██████████| 4/4 [04:56<00:00, 74.11s/it]"
     ]
    },
    {
     "name": "stdout",
     "output_type": "stream",
     "text": [
      "TRE estimated: 6.99, 3.62\n",
      "Initial displacement GT: 30.9, 30.9\n"
     ]
    },
    {
     "name": "stderr",
     "output_type": "stream",
     "text": [
      "\n"
     ]
    }
   ],
   "source": [
    "with open(results_path, 'r') as json_file:\n",
    "    results = json.load(json_file)\n",
    "\n",
    "param_maps_to_use = [\n",
    "    'Parameters.Par0008.affine.txt',\n",
    "    'Parameters.Par0008.elastic.txt'\n",
    "]\n",
    "output_path = base_path / 'experiments/elastix'\n",
    "params_path = base_path / 'elastix/parameter_maps/Par0008'\n",
    "experiment_name = 'P0008-affine+elastic-Body-None'\n",
    "try:\n",
    "    results[experiment_name] = \\\n",
    "        run_experiment(data, param_maps_to_use, output_path, params_path, 'body', experiment_name)\n",
    "except:\n",
    "    results[experiment_name] = None\n",
    "\n",
    "with open(results_path, 'w') as json_file:\n",
    "    json.dump(results, json_file, indent=4, separators=(',', ': '))"
   ]
  },
  {
   "cell_type": "code",
   "execution_count": 16,
   "metadata": {},
   "outputs": [
    {
     "name": "stderr",
     "output_type": "stream",
     "text": [
      "  0%|          | 0/4 [00:00<?, ?it/s]"
     ]
    },
    {
     "name": "stdout",
     "output_type": "stream",
     "text": [
      "Estimating transformation case copd1...\n",
      "Transforming points...\n"
     ]
    },
    {
     "name": "stderr",
     "output_type": "stream",
     "text": [
      " 25%|██▌       | 1/4 [01:22<04:07, 82.62s/it]"
     ]
    },
    {
     "name": "stdout",
     "output_type": "stream",
     "text": [
      "TRE estimated: 2.88, 3.06\n",
      "Initial displacement GT: 25.9, 25.9\n",
      "Estimating transformation case copd2...\n",
      "Transforming points...\n"
     ]
    },
    {
     "name": "stderr",
     "output_type": "stream",
     "text": [
      " 50%|█████     | 2/4 [02:28<02:25, 72.65s/it]"
     ]
    },
    {
     "name": "stdout",
     "output_type": "stream",
     "text": [
      "TRE estimated: 6.88, 6.45\n",
      "Initial displacement GT: 21.77, 21.77\n",
      "Estimating transformation case copd3...\n",
      "Transforming points...\n"
     ]
    },
    {
     "name": "stderr",
     "output_type": "stream",
     "text": [
      " 75%|███████▌  | 3/4 [03:49<01:16, 76.66s/it]"
     ]
    },
    {
     "name": "stdout",
     "output_type": "stream",
     "text": [
      "TRE estimated: 1.35, 1.17\n",
      "Initial displacement GT: 12.29, 12.29\n",
      "Estimating transformation case copd4...\n"
     ]
    },
    {
     "name": "stderr",
     "output_type": "stream",
     "text": [
      " 75%|███████▌  | 3/4 [04:12<01:24, 84.09s/it]\n"
     ]
    }
   ],
   "source": [
    "with open(results_path, 'r') as json_file:\n",
    "    results = json.load(json_file)\n",
    "\n",
    "param_maps_to_use = [\n",
    "    'Parameters.Par0008.affine.txt',\n",
    "    'Parameters.Par0008.elastic.txt'\n",
    "]\n",
    "output_path = base_path / 'experiments/elastix'\n",
    "params_path = base_path / 'elastix/parameter_maps/Par0008'\n",
    "experiment_name = 'P0008-affine+elastic-Lungs-None'\n",
    "try:\n",
    "    results[experiment_name] = \\\n",
    "        run_experiment(data, param_maps_to_use, output_path, params_path, 'lungs', experiment_name)\n",
    "except:\n",
    "    results[experiment_name] = None\n",
    "\n",
    "with open(results_path, 'w') as json_file:\n",
    "    json.dump(results, json_file, indent=4, separators=(',', ': '))"
   ]
  },
  {
   "cell_type": "code",
   "execution_count": 17,
   "metadata": {},
   "outputs": [
    {
     "name": "stderr",
     "output_type": "stream",
     "text": [
      "  0%|          | 0/4 [00:00<?, ?it/s]"
     ]
    },
    {
     "name": "stdout",
     "output_type": "stream",
     "text": [
      "Estimating transformation case copd1...\n"
     ]
    },
    {
     "name": "stderr",
     "output_type": "stream",
     "text": [
      " 25%|██▌       | 1/4 [00:52<02:36, 52.08s/it]"
     ]
    },
    {
     "name": "stdout",
     "output_type": "stream",
     "text": [
      "Transforming points...\n",
      "TRE estimated: 10.06, 5.64\n",
      "Initial displacement GT: 25.9, 25.9\n",
      "Estimating transformation case copd2...\n"
     ]
    },
    {
     "name": "stderr",
     "output_type": "stream",
     "text": [
      " 50%|█████     | 2/4 [01:34<01:32, 46.27s/it]"
     ]
    },
    {
     "name": "stdout",
     "output_type": "stream",
     "text": [
      "Transforming points...\n",
      "TRE estimated: 10.81, 5.92\n",
      "Initial displacement GT: 21.77, 21.77\n",
      "Estimating transformation case copd3...\n"
     ]
    },
    {
     "name": "stderr",
     "output_type": "stream",
     "text": [
      " 75%|███████▌  | 3/4 [02:26<00:49, 49.17s/it]"
     ]
    },
    {
     "name": "stdout",
     "output_type": "stream",
     "text": [
      "Transforming points...\n",
      "TRE estimated: 3.55, 1.73\n",
      "Initial displacement GT: 12.29, 12.29\n",
      "Estimating transformation case copd4...\n"
     ]
    },
    {
     "name": "stderr",
     "output_type": "stream",
     "text": [
      "100%|██████████| 4/4 [03:18<00:00, 49.55s/it]"
     ]
    },
    {
     "name": "stdout",
     "output_type": "stream",
     "text": [
      "Transforming points...\n",
      "TRE estimated: 7.48, 5.12\n",
      "Initial displacement GT: 30.9, 30.9\n"
     ]
    },
    {
     "name": "stderr",
     "output_type": "stream",
     "text": [
      "\n"
     ]
    }
   ],
   "source": [
    "with open(results_path, 'r') as json_file:\n",
    "    results = json.load(json_file)\n",
    "\n",
    "param_maps_to_use = [\n",
    "    'Par0003.affine.txt'\n",
    "]\n",
    "\n",
    "output_path = base_path / 'experiments/elastix'\n",
    "params_path = base_path / 'elastix/parameter_maps/Par0003'\n",
    "experiment_name = 'P0003-affine-Lungs-None'\n",
    "try:\n",
    "    results[experiment_name] = \\\n",
    "        run_experiment(data, param_maps_to_use, output_path, params_path, 'lungs', experiment_name)\n",
    "except:\n",
    "    results[experiment_name] = None\n",
    "\n",
    "with open(results_path, 'w') as json_file:\n",
    "    json.dump(results, json_file, indent=4, separators=(',', ': '))"
   ]
  },
  {
   "cell_type": "code",
   "execution_count": 18,
   "metadata": {},
   "outputs": [
    {
     "name": "stderr",
     "output_type": "stream",
     "text": [
      "  0%|          | 0/4 [00:00<?, ?it/s]"
     ]
    },
    {
     "name": "stdout",
     "output_type": "stream",
     "text": [
      "Estimating transformation case copd1...\n"
     ]
    },
    {
     "name": "stderr",
     "output_type": "stream",
     "text": [
      " 25%|██▌       | 1/4 [01:24<04:14, 84.69s/it]"
     ]
    },
    {
     "name": "stdout",
     "output_type": "stream",
     "text": [
      "Transforming points...\n",
      "TRE estimated: 9.48, 6.01\n",
      "Initial displacement GT: 25.9, 25.9\n",
      "Estimating transformation case copd2...\n"
     ]
    },
    {
     "name": "stderr",
     "output_type": "stream",
     "text": [
      " 50%|█████     | 2/4 [02:34<02:32, 76.12s/it]"
     ]
    },
    {
     "name": "stdout",
     "output_type": "stream",
     "text": [
      "Transforming points...\n",
      "TRE estimated: 9.54, 6.64\n",
      "Initial displacement GT: 21.77, 21.77\n",
      "Estimating transformation case copd3...\n"
     ]
    },
    {
     "name": "stderr",
     "output_type": "stream",
     "text": [
      " 75%|███████▌  | 3/4 [04:01<01:21, 81.01s/it]"
     ]
    },
    {
     "name": "stdout",
     "output_type": "stream",
     "text": [
      "Transforming points...\n",
      "TRE estimated: 1.53, 1.51\n",
      "Initial displacement GT: 12.29, 12.29\n",
      "Estimating transformation case copd4...\n"
     ]
    },
    {
     "name": "stderr",
     "output_type": "stream",
     "text": [
      "100%|██████████| 4/4 [05:26<00:00, 81.55s/it]"
     ]
    },
    {
     "name": "stdout",
     "output_type": "stream",
     "text": [
      "Transforming points...\n",
      "TRE estimated: 6.22, 5.58\n",
      "Initial displacement GT: 30.9, 30.9\n"
     ]
    },
    {
     "name": "stderr",
     "output_type": "stream",
     "text": [
      "\n"
     ]
    }
   ],
   "source": [
    "with open(results_path, 'r') as json_file:\n",
    "    results = json.load(json_file)\n",
    "\n",
    "param_maps_to_use = [\n",
    "    'Par0003.affine.txt',\n",
    "    'Par0003.bs-R1-fg.txt'\n",
    "]\n",
    "\n",
    "output_path = base_path / 'experiments/elastix'\n",
    "params_path = base_path / 'elastix/parameter_maps/Par0003'\n",
    "experiment_name = 'P0003-affine+R1-Lungs-None'\n",
    "try:\n",
    "    results[experiment_name] = \\\n",
    "        run_experiment(data, param_maps_to_use, output_path, params_path, 'lungs', experiment_name)\n",
    "except:\n",
    "    results[experiment_name] = None\n",
    "\n",
    "with open(results_path, 'w') as json_file:\n",
    "    json.dump(results, json_file, indent=4, separators=(',', ': '))"
   ]
  },
  {
   "cell_type": "code",
   "execution_count": 19,
   "metadata": {},
   "outputs": [
    {
     "name": "stderr",
     "output_type": "stream",
     "text": [
      "  0%|          | 0/4 [00:00<?, ?it/s]"
     ]
    },
    {
     "name": "stdout",
     "output_type": "stream",
     "text": [
      "Estimating transformation case copd1...\n"
     ]
    },
    {
     "name": "stderr",
     "output_type": "stream",
     "text": [
      " 25%|██▌       | 1/4 [01:35<04:47, 95.97s/it]"
     ]
    },
    {
     "name": "stdout",
     "output_type": "stream",
     "text": [
      "Transforming points...\n",
      "TRE estimated: 8.45, 6.54\n",
      "Initial displacement GT: 25.9, 25.9\n",
      "Estimating transformation case copd2...\n"
     ]
    },
    {
     "name": "stderr",
     "output_type": "stream",
     "text": [
      " 50%|█████     | 2/4 [02:55<02:52, 86.23s/it]"
     ]
    },
    {
     "name": "stdout",
     "output_type": "stream",
     "text": [
      "Transforming points...\n",
      "TRE estimated: 8.31, 6.96\n",
      "Initial displacement GT: 21.77, 21.77\n",
      "Estimating transformation case copd3...\n"
     ]
    },
    {
     "name": "stderr",
     "output_type": "stream",
     "text": [
      " 75%|███████▌  | 3/4 [04:33<01:31, 91.46s/it]"
     ]
    },
    {
     "name": "stdout",
     "output_type": "stream",
     "text": [
      "Transforming points...\n",
      "TRE estimated: 1.27, 1.09\n",
      "Initial displacement GT: 12.29, 12.29\n",
      "Estimating transformation case copd4...\n"
     ]
    },
    {
     "name": "stderr",
     "output_type": "stream",
     "text": [
      "100%|██████████| 4/4 [06:07<00:00, 91.93s/it]"
     ]
    },
    {
     "name": "stdout",
     "output_type": "stream",
     "text": [
      "Transforming points...\n",
      "TRE estimated: 5.2, 5.38\n",
      "Initial displacement GT: 30.9, 30.9\n"
     ]
    },
    {
     "name": "stderr",
     "output_type": "stream",
     "text": [
      "\n"
     ]
    }
   ],
   "source": [
    "with open(results_path, 'r') as json_file:\n",
    "    results = json.load(json_file)\n",
    "\n",
    "param_maps_to_use = [\n",
    "    'Par0003.affine.txt',\n",
    "    'Par0003.bs-R2-fg.txt'\n",
    "]\n",
    "\n",
    "output_path = base_path / 'experiments/elastix'\n",
    "params_path = base_path / 'elastix/parameter_maps/Par0003'\n",
    "experiment_name = 'P0003-affine+R2-Lungs-None'\n",
    "try:\n",
    "    results[experiment_name] = \\\n",
    "        run_experiment(data, param_maps_to_use, output_path, params_path, 'lungs', experiment_name)\n",
    "except:\n",
    "    results[experiment_name] = None\n",
    "\n",
    "with open(results_path, 'w') as json_file:\n",
    "    json.dump(results, json_file, indent=4, separators=(',', ': '))"
   ]
  },
  {
   "cell_type": "code",
   "execution_count": 20,
   "metadata": {},
   "outputs": [
    {
     "name": "stderr",
     "output_type": "stream",
     "text": [
      "  0%|          | 0/4 [00:00<?, ?it/s]"
     ]
    },
    {
     "name": "stdout",
     "output_type": "stream",
     "text": [
      "Estimating transformation case copd1...\n"
     ]
    },
    {
     "name": "stderr",
     "output_type": "stream",
     "text": [
      " 25%|██▌       | 1/4 [01:56<05:50, 116.97s/it]"
     ]
    },
    {
     "name": "stdout",
     "output_type": "stream",
     "text": [
      "Transforming points...\n",
      "TRE estimated: 6.06, 6.84\n",
      "Initial displacement GT: 25.9, 25.9\n",
      "Estimating transformation case copd2...\n"
     ]
    },
    {
     "name": "stderr",
     "output_type": "stream",
     "text": [
      " 50%|█████     | 2/4 [03:35<03:32, 106.22s/it]"
     ]
    },
    {
     "name": "stdout",
     "output_type": "stream",
     "text": [
      "Transforming points...\n",
      "TRE estimated: 7.3, 6.83\n",
      "Initial displacement GT: 21.77, 21.77\n",
      "Estimating transformation case copd3...\n"
     ]
    },
    {
     "name": "stderr",
     "output_type": "stream",
     "text": [
      " 75%|███████▌  | 3/4 [05:36<01:52, 112.68s/it]"
     ]
    },
    {
     "name": "stdout",
     "output_type": "stream",
     "text": [
      "Transforming points...\n",
      "TRE estimated: 1.36, 1.25\n",
      "Initial displacement GT: 12.29, 12.29\n",
      "Estimating transformation case copd4...\n"
     ]
    },
    {
     "name": "stderr",
     "output_type": "stream",
     "text": [
      "100%|██████████| 4/4 [07:31<00:00, 112.86s/it]"
     ]
    },
    {
     "name": "stdout",
     "output_type": "stream",
     "text": [
      "Transforming points...\n",
      "TRE estimated: 4.69, 5.01\n",
      "Initial displacement GT: 30.9, 30.9\n"
     ]
    },
    {
     "name": "stderr",
     "output_type": "stream",
     "text": [
      "\n"
     ]
    }
   ],
   "source": [
    "with open(results_path, 'r') as json_file:\n",
    "    results = json.load(json_file)\n",
    "\n",
    "param_maps_to_use = [\n",
    "    'Par0003.affine.txt',\n",
    "    'Par0003.bs-R4-fg.txt'\n",
    "]\n",
    "\n",
    "output_path = base_path / 'experiments/elastix'\n",
    "params_path = base_path / 'elastix/parameter_maps/Par0003'\n",
    "experiment_name = 'P0003-affine+R4-Lungs-None'\n",
    "try:\n",
    "    results[experiment_name] = \\\n",
    "        run_experiment(data, param_maps_to_use, output_path, params_path, 'lungs', experiment_name)\n",
    "except:\n",
    "    results[experiment_name] = None\n",
    "\n",
    "with open(results_path, 'w') as json_file:\n",
    "    json.dump(results, json_file, indent=4, separators=(',', ': '))"
   ]
  },
  {
   "cell_type": "code",
   "execution_count": 21,
   "metadata": {},
   "outputs": [
    {
     "name": "stderr",
     "output_type": "stream",
     "text": [
      "  0%|          | 0/4 [00:00<?, ?it/s]"
     ]
    },
    {
     "name": "stdout",
     "output_type": "stream",
     "text": [
      "Estimating transformation case copd1...\n"
     ]
    },
    {
     "name": "stderr",
     "output_type": "stream",
     "text": [
      " 25%|██▌       | 1/4 [02:18<06:55, 138.63s/it]"
     ]
    },
    {
     "name": "stdout",
     "output_type": "stream",
     "text": [
      "Transforming points...\n",
      "TRE estimated: 7.94, 6.99\n",
      "Initial displacement GT: 25.9, 25.9\n",
      "Estimating transformation case copd2...\n"
     ]
    },
    {
     "name": "stderr",
     "output_type": "stream",
     "text": [
      " 50%|█████     | 2/4 [04:14<04:11, 125.53s/it]"
     ]
    },
    {
     "name": "stdout",
     "output_type": "stream",
     "text": [
      "Transforming points...\n",
      "TRE estimated: 10.91, 8.79\n",
      "Initial displacement GT: 21.77, 21.77\n",
      "Estimating transformation case copd3...\n"
     ]
    },
    {
     "name": "stderr",
     "output_type": "stream",
     "text": [
      " 75%|███████▌  | 3/4 [06:35<02:12, 132.20s/it]"
     ]
    },
    {
     "name": "stdout",
     "output_type": "stream",
     "text": [
      "Transforming points...\n",
      "TRE estimated: 1.56, 1.67\n",
      "Initial displacement GT: 12.29, 12.29\n",
      "Estimating transformation case copd4...\n"
     ]
    },
    {
     "name": "stderr",
     "output_type": "stream",
     "text": [
      "100%|██████████| 4/4 [08:49<00:00, 132.46s/it]"
     ]
    },
    {
     "name": "stdout",
     "output_type": "stream",
     "text": [
      "Transforming points...\n",
      "TRE estimated: 9.52, 6.33\n",
      "Initial displacement GT: 30.9, 30.9\n"
     ]
    },
    {
     "name": "stderr",
     "output_type": "stream",
     "text": [
      "\n"
     ]
    }
   ],
   "source": [
    "with open(results_path, 'r') as json_file:\n",
    "    results = json.load(json_file)\n",
    "\n",
    "param_maps_to_use = [\n",
    "    'Par0003.affine.txt',\n",
    "    'Par0003.bs-R6-fg.txt'\n",
    "]\n",
    "\n",
    "output_path = base_path / 'experiments/elastix'\n",
    "params_path = base_path / 'elastix/parameter_maps/Par0003'\n",
    "experiment_name = 'P0003-affine+R6-Lungs-None'\n",
    "try:\n",
    "    results[experiment_name] = \\\n",
    "        run_experiment(data, param_maps_to_use, output_path, params_path, 'lungs', experiment_name)\n",
    "except:\n",
    "    results[experiment_name] = None\n",
    "\n",
    "with open(results_path, 'w') as json_file:\n",
    "    json.dump(results, json_file, indent=4, separators=(',', ': '))"
   ]
  },
  {
   "cell_type": "code",
   "execution_count": 22,
   "metadata": {},
   "outputs": [
    {
     "name": "stderr",
     "output_type": "stream",
     "text": [
      "  0%|          | 0/4 [00:00<?, ?it/s]"
     ]
    },
    {
     "name": "stdout",
     "output_type": "stream",
     "text": [
      "Estimating transformation case copd1...\n"
     ]
    },
    {
     "name": "stderr",
     "output_type": "stream",
     "text": [
      " 25%|██▌       | 1/4 [02:45<08:15, 165.21s/it]"
     ]
    },
    {
     "name": "stdout",
     "output_type": "stream",
     "text": [
      "Transforming points...\n",
      "TRE estimated: 7.75, 6.37\n",
      "Initial displacement GT: 25.9, 25.9\n",
      "Estimating transformation case copd2...\n"
     ]
    },
    {
     "name": "stderr",
     "output_type": "stream",
     "text": [
      " 50%|█████     | 2/4 [04:59<04:53, 146.77s/it]"
     ]
    },
    {
     "name": "stdout",
     "output_type": "stream",
     "text": [
      "Transforming points...\n",
      "TRE estimated: 11.16, 8.68\n",
      "Initial displacement GT: 21.77, 21.77\n",
      "Estimating transformation case copd3...\n"
     ]
    },
    {
     "name": "stderr",
     "output_type": "stream",
     "text": [
      " 75%|███████▌  | 3/4 [07:46<02:36, 156.20s/it]"
     ]
    },
    {
     "name": "stdout",
     "output_type": "stream",
     "text": [
      "Transforming points...\n",
      "TRE estimated: 1.77, 1.9\n",
      "Initial displacement GT: 12.29, 12.29\n",
      "Estimating transformation case copd4...\n"
     ]
    },
    {
     "name": "stderr",
     "output_type": "stream",
     "text": [
      "100%|██████████| 4/4 [10:19<00:00, 154.89s/it]"
     ]
    },
    {
     "name": "stdout",
     "output_type": "stream",
     "text": [
      "Transforming points...\n",
      "TRE estimated: 10.76, 6.31\n",
      "Initial displacement GT: 30.9, 30.9\n"
     ]
    },
    {
     "name": "stderr",
     "output_type": "stream",
     "text": [
      "\n"
     ]
    }
   ],
   "source": [
    "with open(results_path, 'r') as json_file:\n",
    "    results = json.load(json_file)\n",
    "\n",
    "param_maps_to_use = [\n",
    "    'Par0003.affine.txt',\n",
    "    'Par0003.bs-R8-fg.txt'\n",
    "]\n",
    "\n",
    "output_path = base_path / 'experiments/elastix'\n",
    "params_path = base_path / 'elastix/parameter_maps/Par0003'\n",
    "experiment_name = 'P0003-affine+R8-Lungs-None'\n",
    "try:\n",
    "    results[experiment_name] = \\\n",
    "        run_experiment(data, param_maps_to_use, output_path, params_path, 'lungs', experiment_name)\n",
    "except:\n",
    "    results[experiment_name] = None\n",
    "\n",
    "with open(results_path, 'w') as json_file:\n",
    "    json.dump(results, json_file, indent=4, separators=(',', ': '))"
   ]
  },
  {
   "cell_type": "code",
   "execution_count": 23,
   "metadata": {},
   "outputs": [
    {
     "name": "stderr",
     "output_type": "stream",
     "text": [
      "  0%|          | 0/4 [00:00<?, ?it/s]"
     ]
    },
    {
     "name": "stdout",
     "output_type": "stream",
     "text": [
      "Estimating transformation case copd1...\n"
     ]
    },
    {
     "name": "stderr",
     "output_type": "stream",
     "text": [
      " 25%|██▌       | 1/4 [02:20<07:02, 140.75s/it]"
     ]
    },
    {
     "name": "stdout",
     "output_type": "stream",
     "text": [
      "Transforming points...\n",
      "TRE estimated: 1.22, 1.11\n",
      "Initial displacement GT: 25.9, 25.9\n",
      "Estimating transformation case copd2...\n"
     ]
    },
    {
     "name": "stderr",
     "output_type": "stream",
     "text": [
      " 25%|██▌       | 1/4 [03:15<09:45, 195.25s/it]\n"
     ]
    }
   ],
   "source": [
    "with open(results_path, 'r') as json_file:\n",
    "    results = json.load(json_file)\n",
    "\n",
    "param_maps_to_use = [\n",
    "    'Par0003.affine.txt',\n",
    "    'Par0003.bs-R8-ug.txt'\n",
    "]\n",
    "\n",
    "output_path = base_path / 'experiments/elastix'\n",
    "params_path = base_path / 'elastix/parameter_maps/Par0003'\n",
    "experiment_name = 'P0003-affine+R8ug-Lungs-None'\n",
    "try:\n",
    "    results[experiment_name] = \\\n",
    "        run_experiment(data, param_maps_to_use, output_path, params_path, 'lungs', experiment_name)\n",
    "except:\n",
    "    results[experiment_name] = None\n",
    "\n",
    "with open(results_path, 'w') as json_file:\n",
    "    json.dump(results, json_file, indent=4, separators=(',', ': '))"
   ]
  },
  {
   "cell_type": "code",
   "execution_count": 24,
   "metadata": {},
   "outputs": [
    {
     "name": "stderr",
     "output_type": "stream",
     "text": [
      "  0%|          | 0/4 [00:00<?, ?it/s]"
     ]
    },
    {
     "name": "stdout",
     "output_type": "stream",
     "text": [
      "Estimating transformation case copd1...\n"
     ]
    },
    {
     "name": "stderr",
     "output_type": "stream",
     "text": [
      " 25%|██▌       | 1/4 [02:05<06:15, 125.03s/it]"
     ]
    },
    {
     "name": "stdout",
     "output_type": "stream",
     "text": [
      "Transforming points...\n",
      "TRE estimated: 1.2, 1.18\n",
      "Initial displacement GT: 25.9, 25.9\n",
      "Estimating transformation case copd2...\n"
     ]
    },
    {
     "name": "stderr",
     "output_type": "stream",
     "text": [
      " 50%|█████     | 2/4 [03:48<03:45, 112.58s/it]"
     ]
    },
    {
     "name": "stdout",
     "output_type": "stream",
     "text": [
      "Transforming points...\n",
      "TRE estimated: 3.55, 4.54\n",
      "Initial displacement GT: 21.77, 21.77\n",
      "Estimating transformation case copd3...\n"
     ]
    },
    {
     "name": "stderr",
     "output_type": "stream",
     "text": [
      " 75%|███████▌  | 3/4 [05:55<01:58, 118.85s/it]"
     ]
    },
    {
     "name": "stdout",
     "output_type": "stream",
     "text": [
      "Transforming points...\n",
      "TRE estimated: 1.21, 0.99\n",
      "Initial displacement GT: 12.29, 12.29\n",
      "Estimating transformation case copd4...\n"
     ]
    },
    {
     "name": "stderr",
     "output_type": "stream",
     "text": [
      "100%|██████████| 4/4 [07:58<00:00, 119.53s/it]"
     ]
    },
    {
     "name": "stdout",
     "output_type": "stream",
     "text": [
      "Transforming points...\n",
      "TRE estimated: 1.64, 1.32\n",
      "Initial displacement GT: 30.9, 30.9\n"
     ]
    },
    {
     "name": "stderr",
     "output_type": "stream",
     "text": [
      "\n"
     ]
    }
   ],
   "source": [
    "with open(results_path, 'r') as json_file:\n",
    "    results = json.load(json_file)\n",
    "\n",
    "param_maps_to_use = [\n",
    "    'Par0003.affine.txt',\n",
    "    'Par0003.bs-R6-ug.txt'\n",
    "]\n",
    "\n",
    "output_path = base_path / 'experiments/elastix'\n",
    "params_path = base_path / 'elastix/parameter_maps/Par0003'\n",
    "experiment_name = 'P0003-affine+R6ug-Lungs-None'\n",
    "try:\n",
    "    results[experiment_name] = \\\n",
    "        run_experiment(data, param_maps_to_use, output_path, params_path, 'lungs', experiment_name)\n",
    "except:\n",
    "    results[experiment_name] = None\n",
    "\n",
    "with open(results_path, 'w') as json_file:\n",
    "    json.dump(results, json_file, indent=4, separators=(',', ': '))"
   ]
  },
  {
   "cell_type": "code",
   "execution_count": 25,
   "metadata": {},
   "outputs": [
    {
     "name": "stderr",
     "output_type": "stream",
     "text": [
      "  0%|          | 0/4 [00:00<?, ?it/s]"
     ]
    },
    {
     "name": "stdout",
     "output_type": "stream",
     "text": [
      "Estimating transformation case copd1...\n"
     ]
    },
    {
     "name": "stderr",
     "output_type": "stream",
     "text": [
      " 25%|██▌       | 1/4 [01:49<05:29, 109.87s/it]"
     ]
    },
    {
     "name": "stdout",
     "output_type": "stream",
     "text": [
      "Transforming points...\n",
      "TRE estimated: 1.21, 1.07\n",
      "Initial displacement GT: 25.9, 25.9\n",
      "Estimating transformation case copd2...\n"
     ]
    },
    {
     "name": "stderr",
     "output_type": "stream",
     "text": [
      " 50%|█████     | 2/4 [03:23<03:20, 100.20s/it]"
     ]
    },
    {
     "name": "stdout",
     "output_type": "stream",
     "text": [
      "Transforming points...\n",
      "TRE estimated: 3.29, 4.16\n",
      "Initial displacement GT: 21.77, 21.77\n",
      "Estimating transformation case copd3...\n",
      "Transforming points...\n",
      "TRE estimated: 1.17, 0.99\n",
      "Initial displacement GT: 12.29, 12.29\n"
     ]
    },
    {
     "name": "stderr",
     "output_type": "stream",
     "text": [
      " 75%|███████▌  | 3/4 [05:14<01:45, 105.02s/it]"
     ]
    },
    {
     "name": "stdout",
     "output_type": "stream",
     "text": [
      "Estimating transformation case copd4...\n"
     ]
    },
    {
     "name": "stderr",
     "output_type": "stream",
     "text": [
      "100%|██████████| 4/4 [07:01<00:00, 105.38s/it]"
     ]
    },
    {
     "name": "stdout",
     "output_type": "stream",
     "text": [
      "Transforming points...\n",
      "TRE estimated: 1.69, 1.56\n",
      "Initial displacement GT: 30.9, 30.9\n"
     ]
    },
    {
     "name": "stderr",
     "output_type": "stream",
     "text": [
      "\n"
     ]
    }
   ],
   "source": [
    "with open(results_path, 'r') as json_file:\n",
    "    results = json.load(json_file)\n",
    "\n",
    "param_maps_to_use = [\n",
    "    'Par0003.affine.txt',\n",
    "    'Par0003.bs-R4-ug.txt'\n",
    "]\n",
    "\n",
    "output_path = base_path / 'experiments/elastix'\n",
    "params_path = base_path / 'elastix/parameter_maps/Par0003'\n",
    "experiment_name = 'P0003-affine+R4ug-Lungs-None'\n",
    "try:\n",
    "    results[experiment_name] = \\\n",
    "        run_experiment(data, param_maps_to_use, output_path, params_path, 'lungs', experiment_name)\n",
    "except:\n",
    "    results[experiment_name] = None\n",
    "\n",
    "with open(results_path, 'w') as json_file:\n",
    "    json.dump(results, json_file, indent=4, separators=(',', ': '))"
   ]
  },
  {
   "cell_type": "code",
   "execution_count": 26,
   "metadata": {},
   "outputs": [
    {
     "name": "stderr",
     "output_type": "stream",
     "text": [
      "  0%|          | 0/4 [00:00<?, ?it/s]"
     ]
    },
    {
     "name": "stdout",
     "output_type": "stream",
     "text": [
      "Estimating transformation case copd1...\n"
     ]
    },
    {
     "name": "stderr",
     "output_type": "stream",
     "text": [
      " 25%|██▌       | 1/4 [01:32<04:38, 92.78s/it]"
     ]
    },
    {
     "name": "stdout",
     "output_type": "stream",
     "text": [
      "Transforming points...\n",
      "TRE estimated: 4.65, 6.16\n",
      "Initial displacement GT: 25.9, 25.9\n",
      "Estimating transformation case copd2...\n"
     ]
    },
    {
     "name": "stderr",
     "output_type": "stream",
     "text": [
      " 50%|█████     | 2/4 [02:50<02:48, 84.09s/it]"
     ]
    },
    {
     "name": "stdout",
     "output_type": "stream",
     "text": [
      "Transforming points...\n",
      "TRE estimated: 5.33, 6.44\n",
      "Initial displacement GT: 21.77, 21.77\n",
      "Estimating transformation case copd3...\n",
      "Transforming points...\n"
     ]
    },
    {
     "name": "stderr",
     "output_type": "stream",
     "text": [
      " 75%|███████▌  | 3/4 [04:24<01:28, 88.71s/it]"
     ]
    },
    {
     "name": "stdout",
     "output_type": "stream",
     "text": [
      "TRE estimated: 1.22, 1.01\n",
      "Initial displacement GT: 12.29, 12.29\n",
      "Estimating transformation case copd4...\n"
     ]
    },
    {
     "name": "stderr",
     "output_type": "stream",
     "text": [
      "100%|██████████| 4/4 [05:57<00:00, 89.43s/it]"
     ]
    },
    {
     "name": "stdout",
     "output_type": "stream",
     "text": [
      "Transforming points...\n",
      "TRE estimated: 2.72, 3.57\n",
      "Initial displacement GT: 30.9, 30.9\n"
     ]
    },
    {
     "name": "stderr",
     "output_type": "stream",
     "text": [
      "\n"
     ]
    }
   ],
   "source": [
    "with open(results_path, 'r') as json_file:\n",
    "    results = json.load(json_file)\n",
    "\n",
    "param_maps_to_use = [\n",
    "    'Par0003.affine.txt',\n",
    "    'Par0003.bs-R2-ug.txt'\n",
    "]\n",
    "\n",
    "output_path = base_path / 'experiments/elastix'\n",
    "params_path = base_path / 'elastix/parameter_maps/Par0003'\n",
    "experiment_name = 'P0003-affine+R2ug-Lungs-None'\n",
    "try:\n",
    "    results[experiment_name] = \\\n",
    "        run_experiment(data, param_maps_to_use, output_path, params_path, 'lungs', experiment_name)\n",
    "except:\n",
    "    results[experiment_name] = None\n",
    "\n",
    "with open(results_path, 'w') as json_file:\n",
    "    json.dump(results, json_file, indent=4, separators=(',', ': '))"
   ]
  },
  {
   "attachments": {},
   "cell_type": "markdown",
   "metadata": {},
   "source": [
    "SECOND ROUND OF EXPERIMENTS"
   ]
  },
  {
   "cell_type": "code",
   "execution_count": 12,
   "metadata": {},
   "outputs": [
    {
     "name": "stdout",
     "output_type": "stream",
     "text": [
      "Estimating transformation case copd1...\n",
      "Transforming points...\n",
      "Transforming lung mask...\n",
      "TRE estimated: 1.31, 1.26\n",
      "Initial displacement GT: 25.9, 25.9\n",
      "Estimating transformation case copd2...\n",
      "Transforming points...\n",
      "Transforming lung mask...\n",
      "TRE estimated: 2.81, 3.51\n",
      "Initial displacement GT: 21.77, 21.77\n",
      "Estimating transformation case copd3...\n",
      "Transforming points...\n",
      "Transforming lung mask...\n",
      "TRE estimated: 1.19, 0.98\n",
      "Initial displacement GT: 12.29, 12.29\n",
      "Estimating transformation case copd4...\n",
      "Transforming points...\n",
      "Transforming lung mask...\n",
      "TRE estimated: 1.61, 1.43\n",
      "Initial displacement GT: 30.9, 30.9\n"
     ]
    }
   ],
   "source": [
    "with open(results_path, 'r') as json_file:\n",
    "    results = json.load(json_file)\n",
    "\n",
    "param_maps_to_use = [\n",
    "    'Par0003.bs-R4-ug.txt'\n",
    "]\n",
    "\n",
    "output_path = base_path / 'experiments/elastix'\n",
    "params_path = base_path / 'elastix/parameter_maps/Par0003'\n",
    "experiment_name = 'P0003-R4ug-Lungs-None'\n",
    "try:\n",
    "    results[experiment_name] = \\\n",
    "        run_experiment(data, param_maps_to_use, output_path, params_path, 'lungs', experiment_name)\n",
    "except:\n",
    "    results[experiment_name] = None\n",
    "\n",
    "with open(results_path, 'w') as json_file:\n",
    "    json.dump(results, json_file, indent=4, separators=(',', ': '))"
   ]
  },
  {
   "attachments": {},
   "cell_type": "markdown",
   "metadata": {},
   "source": [
    "    \"P0003-affine+R4ug-Lungs-None\": {\n",
    "        \"copd1\": {\n",
    "            \"mean_tre\": 1.21,\n",
    "            \"std_tre\": 1.07,\n",
    "            \"time\": 94.04643630981445\n",
    "        },\n",
    "        \"copd2\": {\n",
    "            \"mean_tre\": 3.29,\n",
    "            \"std_tre\": 4.16,\n",
    "            \"time\": 80.12521958351135\n",
    "        },\n",
    "        \"copd3\": {\n",
    "            \"mean_tre\": 1.17,\n",
    "            \"std_tre\": 0.99,\n",
    "            \"time\": 94.5142936706543\n",
    "        },\n",
    "        \"copd4\": {\n",
    "            \"mean_tre\": 1.69,\n",
    "            \"std_tre\": 1.56,\n",
    "            \"time\": 91.17892789840698\n",
    "        }\n",
    "    },\n",
    "    \"P0003-R4ug-Lungs-None\": {\n",
    "        \"copd1\": {\n",
    "            \"mean_tre\": 1.31,\n",
    "            \"std_tre\": 1.26,\n",
    "            \"time\": 68.47441744804382\n",
    "        },\n",
    "        \"copd2\": {\n",
    "            \"mean_tre\": 2.81,\n",
    "            \"std_tre\": 3.51,\n",
    "            \"time\": 61.93882775306702\n",
    "        },\n",
    "        \"copd3\": {\n",
    "            \"mean_tre\": 1.19,\n",
    "            \"std_tre\": 0.98,\n",
    "            \"time\": 70.07741189002991\n",
    "        },\n",
    "        \"copd4\": {\n",
    "            \"mean_tre\": 1.61,\n",
    "            \"std_tre\": 1.43,\n",
    "            \"time\": 58.49851179122925\n",
    "        }\n",
    "    \"BSP-bsplines-Lungs-None\": {\n",
    "        \"copd1\": {\n",
    "            \"mean_tre\": 1.11,\n",
    "            \"std_tre\": 1.05,\n",
    "            \"time\": 272.60267758369446\n",
    "        },\n",
    "        \"copd2\": {\n",
    "            \"mean_tre\": 2.12,\n",
    "            \"std_tre\": 2.62,\n",
    "            \"time\": 278.3260247707367\n",
    "        },\n",
    "        \"copd3\": {\n",
    "            \"mean_tre\": 1.11,\n",
    "            \"std_tre\": 1.0,\n",
    "            \"time\": 296.4925916194916\n",
    "        },\n",
    "        \"copd4\": {\n",
    "            \"mean_tre\": 1.39,\n",
    "            \"std_tre\": 1.11,\n",
    "            \"time\": 273.2813789844513\n",
    "        }"
   ]
  },
  {
   "cell_type": "code",
   "execution_count": 17,
   "metadata": {},
   "outputs": [
    {
     "name": "stdout",
     "output_type": "stream",
     "text": [
      "Estimating transformation case copd1...\n",
      "Transforming points...\n",
      "Transforming lung mask...\n",
      "TRE estimated: 1.24, 1.21\n",
      "Initial displacement GT: 25.9, 25.9\n",
      "Estimating transformation case copd2...\n",
      "Transforming points...\n",
      "Transforming lung mask...\n",
      "TRE estimated: 3.07, 3.93\n",
      "Initial displacement GT: 21.77, 21.77\n",
      "Estimating transformation case copd3...\n",
      "Transforming points...\n",
      "Transforming lung mask...\n",
      "TRE estimated: 1.21, 1.0\n",
      "Initial displacement GT: 12.29, 12.29\n",
      "Estimating transformation case copd4...\n",
      "Transforming points...\n",
      "Transforming lung mask...\n",
      "TRE estimated: 1.53, 1.17\n",
      "Initial displacement GT: 30.9, 30.9\n"
     ]
    }
   ],
   "source": [
    "with open(results_path, 'r') as json_file:\n",
    "    results = json.load(json_file)\n",
    "\n",
    "param_maps_to_use = [\n",
    "    'Par0003.bs-R6-ug.txt'\n",
    "]\n",
    "\n",
    "output_path = base_path / 'experiments/elastix'\n",
    "params_path = base_path / 'elastix/parameter_maps/Par0003'\n",
    "experiment_name = 'P0003-R6ug-Lungs-None'\n",
    "# try:\n",
    "results[experiment_name] = \\\n",
    "    run_experiment(data, param_maps_to_use, output_path, params_path, 'lungs', experiment_name)\n",
    "# except:\n",
    "#     results[experiment_name] = None\n",
    "\n",
    "with open(results_path, 'w') as json_file:\n",
    "    json.dump(results, json_file, indent=4, separators=(',', ': '))"
   ]
  },
  {
   "cell_type": "code",
   "execution_count": 18,
   "metadata": {},
   "outputs": [
    {
     "name": "stdout",
     "output_type": "stream",
     "text": [
      "Estimating transformation case copd1...\n",
      "Transforming points...\n",
      "Transforming lung mask...\n",
      "TRE estimated: 1.24, 1.15\n",
      "Initial displacement GT: 25.9, 25.9\n",
      "Estimating transformation case copd2...\n",
      "Transforming points...\n",
      "Transforming lung mask...\n",
      "TRE estimated: 3.02, 4.0\n",
      "Initial displacement GT: 21.77, 21.77\n",
      "Estimating transformation case copd3...\n",
      "Transforming points...\n",
      "Transforming lung mask...\n",
      "TRE estimated: 1.19, 1.0\n",
      "Initial displacement GT: 12.29, 12.29\n",
      "Estimating transformation case copd4...\n",
      "Transforming points...\n",
      "Transforming lung mask...\n",
      "TRE estimated: 1.46, 1.14\n",
      "Initial displacement GT: 30.9, 30.9\n"
     ]
    }
   ],
   "source": [
    "with open(results_path, 'r') as json_file:\n",
    "    results = json.load(json_file)\n",
    "\n",
    "param_maps_to_use = [\n",
    "    'Par0003.bs-R5-ug.txt'\n",
    "]\n",
    "\n",
    "output_path = base_path / 'experiments/elastix'\n",
    "params_path = base_path / 'elastix/parameter_maps/Par0003'\n",
    "experiment_name = 'P0003-R5ug-Lungs-None'\n",
    "try:\n",
    "    results[experiment_name] = \\\n",
    "        run_experiment(data, param_maps_to_use, output_path, params_path, 'lungs', experiment_name)\n",
    "except:\n",
    "    results[experiment_name] = None\n",
    "\n",
    "with open(results_path, 'w') as json_file:\n",
    "    json.dump(results, json_file, indent=4, separators=(',', ': '))"
   ]
  },
  {
   "cell_type": "code",
   "execution_count": 19,
   "metadata": {},
   "outputs": [
    {
     "name": "stdout",
     "output_type": "stream",
     "text": [
      "Estimating transformation case copd1...\n",
      "Transforming points...\n",
      "Transforming lung mask...\n",
      "TRE estimated: 1.18, 1.04\n",
      "Initial displacement GT: 25.9, 25.9\n",
      "Estimating transformation case copd2...\n",
      "Transforming points...\n",
      "Transforming lung mask...\n",
      "TRE estimated: 2.72, 3.3\n",
      "Initial displacement GT: 21.77, 21.77\n",
      "Estimating transformation case copd3...\n",
      "Transforming points...\n",
      "Transforming lung mask...\n",
      "TRE estimated: 1.17, 0.98\n",
      "Initial displacement GT: 12.29, 12.29\n",
      "Estimating transformation case copd4...\n",
      "Transforming points...\n",
      "Transforming lung mask...\n",
      "TRE estimated: 1.48, 1.16\n",
      "Initial displacement GT: 30.9, 30.9\n"
     ]
    }
   ],
   "source": [
    "with open(results_path, 'r') as json_file:\n",
    "    results = json.load(json_file)\n",
    "\n",
    "param_maps_to_use = [\n",
    "    'Par0003.bs-R5-ug_pyramid.txt'\n",
    "]\n",
    "\n",
    "output_path = base_path / 'experiments/elastix'\n",
    "params_path = base_path / 'elastix/parameter_maps/OUR'\n",
    "experiment_name = 'OUR-P0003-R5ug-pyram-Lungs-None'\n",
    "try:\n",
    "    results[experiment_name] = \\\n",
    "        run_experiment(data, param_maps_to_use, output_path, params_path, 'lungs', experiment_name)\n",
    "except:\n",
    "    results[experiment_name] = None\n",
    "\n",
    "with open(results_path, 'w') as json_file:\n",
    "    json.dump(results, json_file, indent=4, separators=(',', ': '))"
   ]
  },
  {
   "cell_type": "code",
   "execution_count": 20,
   "metadata": {},
   "outputs": [
    {
     "name": "stdout",
     "output_type": "stream",
     "text": [
      "Estimating transformation case copd1...\n",
      "Transforming points...\n",
      "Transforming lung mask...\n",
      "TRE estimated: 1.16, 1.09\n",
      "Initial displacement GT: 25.9, 25.9\n",
      "Estimating transformation case copd2...\n",
      "Transforming points...\n",
      "Transforming lung mask...\n",
      "TRE estimated: 2.73, 3.28\n",
      "Initial displacement GT: 21.77, 21.77\n",
      "Estimating transformation case copd3...\n",
      "Transforming points...\n",
      "Transforming lung mask...\n",
      "TRE estimated: 1.19, 0.98\n",
      "Initial displacement GT: 12.29, 12.29\n",
      "Estimating transformation case copd4...\n",
      "Transforming points...\n",
      "Transforming lung mask...\n",
      "TRE estimated: 1.45, 1.08\n",
      "Initial displacement GT: 30.9, 30.9\n"
     ]
    }
   ],
   "source": [
    "with open(results_path, 'r') as json_file:\n",
    "    results = json.load(json_file)\n",
    "\n",
    "param_maps_to_use = [\n",
    "    'Par0003.bs-R6-ug_pyramid.txt'\n",
    "]\n",
    "\n",
    "output_path = base_path / 'experiments/elastix'\n",
    "params_path = base_path / 'elastix/parameter_maps/OUR'\n",
    "experiment_name = 'OUR-P0003-pyram-Lungs-None'\n",
    "try:\n",
    "    results[experiment_name] = \\\n",
    "        run_experiment(data, param_maps_to_use, output_path, params_path, 'lungs', experiment_name)\n",
    "except:\n",
    "    results[experiment_name] = None\n",
    "\n",
    "with open(results_path, 'w') as json_file:\n",
    "    json.dump(results, json_file, indent=4, separators=(',', ': '))"
   ]
  },
  {
   "cell_type": "code",
   "execution_count": 21,
   "metadata": {},
   "outputs": [
    {
     "name": "stdout",
     "output_type": "stream",
     "text": [
      "Estimating transformation case copd1...\n",
      "Transforming points...\n",
      "Transforming lung mask...\n",
      "TRE estimated: 1.2, 1.07\n",
      "Initial displacement GT: 25.9, 25.9\n",
      "Estimating transformation case copd2...\n",
      "Transforming points...\n",
      "Transforming lung mask...\n",
      "TRE estimated: 2.54, 3.14\n",
      "Initial displacement GT: 21.77, 21.77\n",
      "Estimating transformation case copd3...\n",
      "Transforming points...\n",
      "Transforming lung mask...\n",
      "TRE estimated: 1.18, 1.0\n",
      "Initial displacement GT: 12.29, 12.29\n",
      "Estimating transformation case copd4...\n",
      "Transforming points...\n",
      "Transforming lung mask...\n",
      "TRE estimated: 1.52, 1.19\n",
      "Initial displacement GT: 30.9, 30.9\n"
     ]
    }
   ],
   "source": [
    "with open(results_path, 'r') as json_file:\n",
    "    results = json.load(json_file)\n",
    "\n",
    "param_maps_to_use = [\n",
    "    'Par0003.bs-R6-ug_2.txt'\n",
    "]\n",
    "\n",
    "output_path = base_path / 'experiments/elastix'\n",
    "params_path = base_path / 'elastix/parameter_maps/OUR'\n",
    "experiment_name = 'OUR-P0003-Optim-Lungs-None'\n",
    "try:\n",
    "    results[experiment_name] = \\\n",
    "        run_experiment(data, param_maps_to_use, output_path, params_path, 'lungs', experiment_name)\n",
    "except:\n",
    "    results[experiment_name] = None\n",
    "\n",
    "with open(results_path, 'w') as json_file:\n",
    "    json.dump(results, json_file, indent=4, separators=(',', ': '))"
   ]
  },
  {
   "cell_type": "code",
   "execution_count": 5,
   "metadata": {},
   "outputs": [
    {
     "name": "stdout",
     "output_type": "stream",
     "text": [
      "Estimating transformation case copd1...\n",
      "Transforming points...\n",
      "Transforming lung mask...\n",
      "TRE estimated: 1.47, 2.19\n",
      "Initial displacement GT: 25.9, 25.9\n",
      "Estimating transformation case copd2...\n",
      "Transforming points...\n",
      "Transforming lung mask...\n",
      "TRE estimated: 1.91, 2.0\n",
      "Initial displacement GT: 21.77, 21.77\n",
      "Estimating transformation case copd3...\n",
      "Transforming points...\n",
      "Transforming lung mask...\n",
      "TRE estimated: 1.11, 0.95\n",
      "Initial displacement GT: 12.29, 12.29\n",
      "Estimating transformation case copd4...\n",
      "Transforming points...\n",
      "Transforming lung mask...\n",
      "TRE estimated: 14.22, 11.41\n",
      "Initial displacement GT: 30.9, 30.9\n"
     ]
    }
   ],
   "source": [
    "with open(results_path, 'r') as json_file:\n",
    "    results = json.load(json_file)\n",
    "\n",
    "param_maps_to_use = [\n",
    "    'Par0003.bs-R6-ug_3.txt'\n",
    "]\n",
    "\n",
    "output_path = base_path / 'experiments/elastix'\n",
    "params_path = base_path / 'elastix/parameter_maps/OUR'\n",
    "experiment_name = 'OUR-P0003-Grid-Lungs-None'\n",
    "try:\n",
    "    results[experiment_name] = \\\n",
    "        run_experiment(data, param_maps_to_use, output_path, params_path, 'lungs', experiment_name)\n",
    "except:\n",
    "    results[experiment_name] = None\n",
    "\n",
    "with open(results_path, 'w') as json_file:\n",
    "    json.dump(results, json_file, indent=4, separators=(',', ': '))"
   ]
  },
  {
   "cell_type": "code",
   "execution_count": 6,
   "metadata": {},
   "outputs": [
    {
     "name": "stdout",
     "output_type": "stream",
     "text": [
      "Estimating transformation case copd1...\n",
      "Transforming points...\n",
      "Transforming lung mask...\n",
      "TRE estimated: 1.77, 2.92\n",
      "Initial displacement GT: 25.9, 25.9\n",
      "Estimating transformation case copd2...\n",
      "Transforming points...\n",
      "Transforming lung mask...\n",
      "TRE estimated: 2.41, 3.03\n",
      "Initial displacement GT: 21.77, 21.77\n",
      "Estimating transformation case copd3...\n",
      "Transforming points...\n",
      "Transforming lung mask...\n",
      "TRE estimated: 1.14, 0.96\n",
      "Initial displacement GT: 12.29, 12.29\n",
      "Estimating transformation case copd4...\n",
      "Transforming points...\n",
      "Transforming lung mask...\n",
      "TRE estimated: 19.66, 11.06\n",
      "Initial displacement GT: 30.9, 30.9\n"
     ]
    }
   ],
   "source": [
    "with open(results_path, 'r') as json_file:\n",
    "    results = json.load(json_file)\n",
    "\n",
    "param_maps_to_use = [\n",
    "    'Par0003.bs-R6-ug_4.txt'\n",
    "]\n",
    "\n",
    "output_path = base_path / 'experiments/elastix'\n",
    "params_path = base_path / 'elastix/parameter_maps/OUR'\n",
    "experiment_name = 'OUR-P0003-Grid2-Lungs-None'\n",
    "try:\n",
    "    results[experiment_name] = \\\n",
    "        run_experiment(data, param_maps_to_use, output_path, params_path, 'lungs', experiment_name)\n",
    "except:\n",
    "    results[experiment_name] = None\n",
    "\n",
    "with open(results_path, 'w') as json_file:\n",
    "    json.dump(results, json_file, indent=4, separators=(',', ': '))"
   ]
  },
  {
   "cell_type": "code",
   "execution_count": 7,
   "metadata": {},
   "outputs": [
    {
     "name": "stdout",
     "output_type": "stream",
     "text": [
      "Estimating transformation case copd1...\n",
      "Transforming points...\n",
      "Transforming lung mask...\n",
      "TRE estimated: 1.14, 1.07\n",
      "Initial displacement GT: 25.9, 25.9\n",
      "Estimating transformation case copd2...\n",
      "Transforming points...\n",
      "Transforming lung mask...\n",
      "TRE estimated: 2.32, 2.89\n",
      "Initial displacement GT: 21.77, 21.77\n",
      "Estimating transformation case copd3...\n",
      "Transforming points...\n",
      "Transforming lung mask...\n",
      "TRE estimated: 1.17, 0.98\n",
      "Initial displacement GT: 12.29, 12.29\n",
      "Estimating transformation case copd4...\n",
      "Transforming points...\n",
      "Transforming lung mask...\n",
      "TRE estimated: 1.44, 1.06\n",
      "Initial displacement GT: 30.9, 30.9\n"
     ]
    }
   ],
   "source": [
    "with open(results_path, 'r') as json_file:\n",
    "    results = json.load(json_file)\n",
    "\n",
    "param_maps_to_use = [\n",
    "    'Par0003.bs-R6-ug_6.txt'\n",
    "]\n",
    "\n",
    "output_path = base_path / 'experiments/elastix'\n",
    "params_path = base_path / 'elastix/parameter_maps/OUR'\n",
    "experiment_name = 'OUR-P0003-n_samples_1-Lungs-None'\n",
    "try:\n",
    "    results[experiment_name] = \\\n",
    "        run_experiment(data, param_maps_to_use, output_path, params_path, 'lungs', experiment_name)\n",
    "except:\n",
    "    results[experiment_name] = None\n",
    "\n",
    "with open(results_path, 'w') as json_file:\n",
    "    json.dump(results, json_file, indent=4, separators=(',', ': '))"
   ]
  },
  {
   "cell_type": "code",
   "execution_count": 8,
   "metadata": {},
   "outputs": [
    {
     "name": "stdout",
     "output_type": "stream",
     "text": [
      "Estimating transformation case copd1...\n",
      "Transforming points...\n",
      "Transforming lung mask...\n",
      "TRE estimated: 1.17, 1.04\n",
      "Initial displacement GT: 25.9, 25.9\n",
      "Estimating transformation case copd2...\n",
      "Transforming points...\n",
      "Transforming lung mask...\n",
      "TRE estimated: 2.09, 2.4\n",
      "Initial displacement GT: 21.77, 21.77\n",
      "Estimating transformation case copd3...\n",
      "Transforming points...\n",
      "Transforming lung mask...\n",
      "TRE estimated: 1.13, 0.99\n",
      "Initial displacement GT: 12.29, 12.29\n",
      "Estimating transformation case copd4...\n",
      "Transforming points...\n",
      "Transforming lung mask...\n",
      "TRE estimated: 1.39, 1.03\n",
      "Initial displacement GT: 30.9, 30.9\n"
     ]
    }
   ],
   "source": [
    "with open(results_path, 'r') as json_file:\n",
    "    results = json.load(json_file)\n",
    "\n",
    "param_maps_to_use = [\n",
    "    'Par0003.bs-R6-ug_5.txt'\n",
    "]\n",
    "\n",
    "output_path = base_path / 'experiments/elastix'\n",
    "params_path = base_path / 'elastix/parameter_maps/OUR'\n",
    "experiment_name = 'OUR-P0003-n_samples_2-Lungs-None'\n",
    "try:\n",
    "    results[experiment_name] = \\\n",
    "        run_experiment(data, param_maps_to_use, output_path, params_path, 'lungs', experiment_name)\n",
    "except:\n",
    "    results[experiment_name] = None\n",
    "\n",
    "with open(results_path, 'w') as json_file:\n",
    "    json.dump(results, json_file, indent=4, separators=(',', ': '))"
   ]
  },
  {
   "cell_type": "code",
   "execution_count": 10,
   "metadata": {},
   "outputs": [
    {
     "name": "stdout",
     "output_type": "stream",
     "text": [
      "Estimating transformation case copd1...\n",
      "Transforming points...\n",
      "Transforming lung mask...\n",
      "TRE estimated: 1.19, 1.09\n",
      "Initial displacement GT: 25.9, 25.9\n",
      "Estimating transformation case copd2...\n",
      "Transforming points...\n",
      "Transforming lung mask...\n",
      "TRE estimated: 2.18, 2.79\n",
      "Initial displacement GT: 21.77, 21.77\n",
      "Estimating transformation case copd3...\n",
      "Transforming points...\n",
      "Transforming lung mask...\n",
      "TRE estimated: 1.16, 0.97\n",
      "Initial displacement GT: 12.29, 12.29\n",
      "Estimating transformation case copd4...\n",
      "Transforming points...\n",
      "Transforming lung mask...\n",
      "TRE estimated: 1.39, 1.01\n",
      "Initial displacement GT: 30.9, 30.9\n"
     ]
    }
   ],
   "source": [
    "with open(results_path, 'r') as json_file:\n",
    "    results = json.load(json_file)\n",
    "\n",
    "param_maps_to_use = [\n",
    "    'Par0003.bs-R6-ug_7.txt'\n",
    "]\n",
    "\n",
    "output_path = base_path / 'experiments/elastix'\n",
    "params_path = base_path / 'elastix/parameter_maps/OUR'\n",
    "experiment_name = 'OUR-P0003-Recursive-Lungs-None'\n",
    "try:\n",
    "    results[experiment_name] = \\\n",
    "        run_experiment(data, param_maps_to_use, output_path, params_path, 'lungs', experiment_name)\n",
    "except:\n",
    "    results[experiment_name] = None\n",
    "\n",
    "with open(results_path, 'w') as json_file:\n",
    "    json.dump(results, json_file, indent=4, separators=(',', ': '))"
   ]
  },
  {
   "cell_type": "code",
   "execution_count": 11,
   "metadata": {},
   "outputs": [
    {
     "name": "stdout",
     "output_type": "stream",
     "text": [
      "Estimating transformation case copd1...\n",
      "Transforming points...\n",
      "Transforming lung mask...\n",
      "TRE estimated: 1.15, 1.04\n",
      "Initial displacement GT: 25.9, 25.9\n",
      "Estimating transformation case copd2...\n",
      "Transforming points...\n",
      "Transforming lung mask...\n",
      "TRE estimated: 2.21, 2.73\n",
      "Initial displacement GT: 21.77, 21.77\n",
      "Estimating transformation case copd3...\n",
      "Transforming points...\n",
      "Transforming lung mask...\n",
      "TRE estimated: 1.14, 1.0\n",
      "Initial displacement GT: 12.29, 12.29\n",
      "Estimating transformation case copd4...\n",
      "Transforming points...\n",
      "Transforming lung mask...\n",
      "TRE estimated: 1.37, 1.01\n",
      "Initial displacement GT: 30.9, 30.9\n"
     ]
    }
   ],
   "source": [
    "with open(results_path, 'r') as json_file:\n",
    "    results = json.load(json_file)\n",
    "\n",
    "param_maps_to_use = [\n",
    "    'Par0003.bs-R6-ug_8.txt'\n",
    "]\n",
    "\n",
    "output_path = base_path / 'experiments/elastix'\n",
    "params_path = base_path / 'elastix/parameter_maps/OUR'\n",
    "experiment_name = 'OUR-P0003-SmoothMetric-Lungs-None'\n",
    "try:\n",
    "    results[experiment_name] = \\\n",
    "        run_experiment(data, param_maps_to_use, output_path, params_path, 'lungs', experiment_name)\n",
    "except:\n",
    "    results[experiment_name] = None\n",
    "\n",
    "with open(results_path, 'w') as json_file:\n",
    "    json.dump(results, json_file, indent=4, separators=(',', ': '))"
   ]
  },
  {
   "cell_type": "code",
   "execution_count": 12,
   "metadata": {},
   "outputs": [
    {
     "name": "stdout",
     "output_type": "stream",
     "text": [
      "Estimating transformation case copd1...\n",
      "Transforming points...\n",
      "Transforming lung mask...\n",
      "TRE estimated: 1.18, 1.04\n",
      "Initial displacement GT: 25.9, 25.9\n",
      "Estimating transformation case copd2...\n",
      "Transforming points...\n",
      "Transforming lung mask...\n",
      "TRE estimated: 2.21, 2.75\n",
      "Initial displacement GT: 21.77, 21.77\n",
      "Estimating transformation case copd3...\n",
      "Transforming points...\n",
      "Transforming lung mask...\n",
      "TRE estimated: 1.15, 0.98\n",
      "Initial displacement GT: 12.29, 12.29\n",
      "Estimating transformation case copd4...\n",
      "Transforming points...\n",
      "Transforming lung mask...\n",
      "TRE estimated: 1.4, 1.05\n",
      "Initial displacement GT: 30.9, 30.9\n"
     ]
    }
   ],
   "source": [
    "with open(results_path, 'r') as json_file:\n",
    "    results = json.load(json_file)\n",
    "\n",
    "param_maps_to_use = [\n",
    "    'Par0003.bs-R6-ug_9.txt'\n",
    "]\n",
    "\n",
    "output_path = base_path / 'experiments/elastix'\n",
    "params_path = base_path / 'elastix/parameter_maps/OUR'\n",
    "experiment_name = 'OUR-P0003-RecursiveMetric-Lungs-None'\n",
    "try:\n",
    "    results[experiment_name] = \\\n",
    "        run_experiment(data, param_maps_to_use, output_path, params_path, 'lungs', experiment_name)\n",
    "except:\n",
    "    results[experiment_name] = None\n",
    "\n",
    "with open(results_path, 'w') as json_file:\n",
    "    json.dump(results, json_file, indent=4, separators=(',', ': '))"
   ]
  },
  {
   "cell_type": "code",
   "execution_count": 13,
   "metadata": {},
   "outputs": [
    {
     "name": "stdout",
     "output_type": "stream",
     "text": [
      "Estimating transformation case copd1...\n",
      "Transforming points...\n",
      "Transforming lung mask...\n",
      "TRE estimated: 1.17, 1.02\n",
      "Initial displacement GT: 25.9, 25.9\n",
      "Estimating transformation case copd2...\n",
      "Transforming points...\n",
      "Transforming lung mask...\n",
      "TRE estimated: 2.08, 2.35\n",
      "Initial displacement GT: 21.77, 21.77\n",
      "Estimating transformation case copd3...\n",
      "Transforming points...\n",
      "Transforming lung mask...\n",
      "TRE estimated: 1.15, 0.97\n",
      "Initial displacement GT: 12.29, 12.29\n",
      "Estimating transformation case copd4...\n",
      "Transforming points...\n",
      "Transforming lung mask...\n",
      "TRE estimated: 1.41, 1.01\n",
      "Initial displacement GT: 30.9, 30.9\n"
     ]
    }
   ],
   "source": [
    "with open(results_path, 'r') as json_file:\n",
    "    results = json.load(json_file)\n",
    "\n",
    "param_maps_to_use = [\n",
    "    'Par0003.bs-R6-ug_10.txt'\n",
    "]\n",
    "\n",
    "output_path = base_path / 'experiments/elastix'\n",
    "params_path = base_path / 'elastix/parameter_maps/OUR'\n",
    "experiment_name = 'OUR-P0003-n_samples_3-Lungs-None'\n",
    "try:\n",
    "    results[experiment_name] = \\\n",
    "        run_experiment(data, param_maps_to_use, output_path, params_path, 'lungs', experiment_name)\n",
    "except:\n",
    "    results[experiment_name] = None\n",
    "\n",
    "with open(results_path, 'w') as json_file:\n",
    "    json.dump(results, json_file, indent=4, separators=(',', ': '))"
   ]
  },
  {
   "attachments": {},
   "cell_type": "markdown",
   "metadata": {},
   "source": [
    "THIRD ROUND"
   ]
  },
  {
   "attachments": {},
   "cell_type": "markdown",
   "metadata": {},
   "source": [
    "window"
   ]
  },
  {
   "cell_type": "code",
   "execution_count": 5,
   "metadata": {},
   "outputs": [
    {
     "name": "stderr",
     "output_type": "stream",
     "text": [
      "  0%|          | 0/4 [00:00<?, ?it/s]"
     ]
    },
    {
     "name": "stdout",
     "output_type": "stream",
     "text": [
      "Estimating transformation case copd1...\n",
      "Transforming points...\n",
      "Transforming lung mask...\n"
     ]
    },
    {
     "name": "stderr",
     "output_type": "stream",
     "text": [
      " 25%|██▌       | 1/4 [06:47<20:22, 407.42s/it]"
     ]
    },
    {
     "name": "stdout",
     "output_type": "stream",
     "text": [
      "TRE estimated: 1.17, 1.09\n",
      "Initial displacement GT: 25.9, 25.9\n",
      "Estimating transformation case copd2...\n",
      "Transforming points...\n",
      "Transforming lung mask...\n"
     ]
    },
    {
     "name": "stderr",
     "output_type": "stream",
     "text": [
      " 50%|█████     | 2/4 [11:08<10:43, 321.52s/it]"
     ]
    },
    {
     "name": "stdout",
     "output_type": "stream",
     "text": [
      "TRE estimated: 3.23, 5.11\n",
      "Initial displacement GT: 21.77, 21.77\n",
      "Estimating transformation case copd3...\n",
      "Transforming points...\n",
      "Transforming lung mask...\n"
     ]
    },
    {
     "name": "stderr",
     "output_type": "stream",
     "text": [
      " 75%|███████▌  | 3/4 [16:00<05:07, 307.88s/it]"
     ]
    },
    {
     "name": "stdout",
     "output_type": "stream",
     "text": [
      "TRE estimated: 1.15, 0.99\n",
      "Initial displacement GT: 12.29, 12.29\n",
      "Estimating transformation case copd4...\n",
      "Transforming points...\n",
      "Transforming lung mask...\n"
     ]
    },
    {
     "name": "stderr",
     "output_type": "stream",
     "text": [
      "100%|██████████| 4/4 [20:41<00:00, 310.36s/it]"
     ]
    },
    {
     "name": "stdout",
     "output_type": "stream",
     "text": [
      "TRE estimated: 1.44, 1.09\n",
      "Initial displacement GT: 30.9, 30.9\n"
     ]
    },
    {
     "name": "stderr",
     "output_type": "stream",
     "text": [
      "\n"
     ]
    }
   ],
   "source": [
    "norm_cfg = {\n",
    "    'norm_type': None,\n",
    "    'mask': None,\n",
    "    'max_val': 255,\n",
    "    'window': [-1024, 600],\n",
    "    'dtype': 'uint8',\n",
    "}\n",
    "experiment_name = 'OUR-P0003-8-Lungs-Window-None'\n",
    "run_preproc_experiment(norm_cfg, clahe=False, hist_match=False, exp_name=experiment_name)"
   ]
  },
  {
   "cell_type": "code",
   "execution_count": 6,
   "metadata": {},
   "outputs": [
    {
     "name": "stderr",
     "output_type": "stream",
     "text": [
      "  0%|          | 0/4 [00:00<?, ?it/s]"
     ]
    },
    {
     "name": "stdout",
     "output_type": "stream",
     "text": [
      "Estimating transformation case copd1...\n",
      "Transforming points...\n",
      "Transforming lung mask...\n"
     ]
    },
    {
     "name": "stderr",
     "output_type": "stream",
     "text": [
      " 25%|██▌       | 1/4 [04:49<14:28, 289.41s/it]"
     ]
    },
    {
     "name": "stdout",
     "output_type": "stream",
     "text": [
      "TRE estimated: 1.19, 1.09\n",
      "Initial displacement GT: 25.9, 25.9\n",
      "Estimating transformation case copd2...\n",
      "Transforming points...\n",
      "Transforming lung mask...\n"
     ]
    },
    {
     "name": "stderr",
     "output_type": "stream",
     "text": [
      " 50%|█████     | 2/4 [09:10<09:05, 272.95s/it]"
     ]
    },
    {
     "name": "stdout",
     "output_type": "stream",
     "text": [
      "TRE estimated: 3.31, 5.22\n",
      "Initial displacement GT: 21.77, 21.77\n",
      "Estimating transformation case copd3...\n",
      "Transforming points...\n",
      "Transforming lung mask...\n"
     ]
    },
    {
     "name": "stderr",
     "output_type": "stream",
     "text": [
      " 75%|███████▌  | 3/4 [14:03<04:41, 281.90s/it]"
     ]
    },
    {
     "name": "stdout",
     "output_type": "stream",
     "text": [
      "TRE estimated: 1.15, 0.98\n",
      "Initial displacement GT: 12.29, 12.29\n",
      "Estimating transformation case copd4...\n",
      "Transforming points...\n",
      "Transforming lung mask...\n"
     ]
    },
    {
     "name": "stderr",
     "output_type": "stream",
     "text": [
      "100%|██████████| 4/4 [18:49<00:00, 282.39s/it]"
     ]
    },
    {
     "name": "stdout",
     "output_type": "stream",
     "text": [
      "TRE estimated: 1.45, 1.12\n",
      "Initial displacement GT: 30.9, 30.9\n"
     ]
    },
    {
     "name": "stderr",
     "output_type": "stream",
     "text": [
      "\n"
     ]
    }
   ],
   "source": [
    "norm_cfg = {\n",
    "    'norm_type': 'min-max',\n",
    "    'mask': None,\n",
    "    'max_val': 255,\n",
    "    'window': [-1024, 600],\n",
    "    'dtype': 'uint8',\n",
    "}\n",
    "experiment_name = 'OUR-P0003-8-Lungs-Window-MM'\n",
    "run_preproc_experiment(norm_cfg, clahe=False, hist_match=False, exp_name=experiment_name)"
   ]
  },
  {
   "cell_type": "code",
   "execution_count": 7,
   "metadata": {},
   "outputs": [
    {
     "name": "stderr",
     "output_type": "stream",
     "text": [
      "  0%|          | 0/4 [00:00<?, ?it/s]"
     ]
    },
    {
     "name": "stdout",
     "output_type": "stream",
     "text": [
      "Estimating transformation case copd1...\n",
      "Transforming points...\n",
      "Transforming lung mask...\n"
     ]
    },
    {
     "name": "stderr",
     "output_type": "stream",
     "text": [
      " 25%|██▌       | 1/4 [05:06<15:20, 306.74s/it]"
     ]
    },
    {
     "name": "stdout",
     "output_type": "stream",
     "text": [
      "TRE estimated: 1.18, 1.1\n",
      "Initial displacement GT: 25.9, 25.9\n",
      "Estimating transformation case copd2...\n",
      "Transforming points...\n",
      "Transforming lung mask...\n"
     ]
    },
    {
     "name": "stderr",
     "output_type": "stream",
     "text": [
      " 50%|█████     | 2/4 [09:41<09:35, 287.74s/it]"
     ]
    },
    {
     "name": "stdout",
     "output_type": "stream",
     "text": [
      "TRE estimated: 3.21, 5.03\n",
      "Initial displacement GT: 21.77, 21.77\n",
      "Estimating transformation case copd3...\n",
      "Transforming points...\n",
      "Transforming lung mask...\n"
     ]
    },
    {
     "name": "stderr",
     "output_type": "stream",
     "text": [
      " 75%|███████▌  | 3/4 [14:46<04:55, 295.60s/it]"
     ]
    },
    {
     "name": "stdout",
     "output_type": "stream",
     "text": [
      "TRE estimated: 1.15, 1.0\n",
      "Initial displacement GT: 12.29, 12.29\n",
      "Estimating transformation case copd4...\n",
      "Transforming points...\n",
      "Transforming lung mask...\n"
     ]
    },
    {
     "name": "stderr",
     "output_type": "stream",
     "text": [
      "100%|██████████| 4/4 [19:21<00:00, 290.42s/it]"
     ]
    },
    {
     "name": "stdout",
     "output_type": "stream",
     "text": [
      "TRE estimated: 1.47, 1.13\n",
      "Initial displacement GT: 30.9, 30.9\n"
     ]
    },
    {
     "name": "stderr",
     "output_type": "stream",
     "text": [
      "\n"
     ]
    }
   ],
   "source": [
    "norm_cfg = {\n",
    "    'norm_type': 'min-max',\n",
    "    'mask': 'lungs',\n",
    "    'max_val': 255,\n",
    "    'window': [-1024, 600],\n",
    "    'dtype': 'uint8',\n",
    "}\n",
    "experiment_name = 'OUR-P0003-8-Lungs-Window-MML'\n",
    "run_preproc_experiment(norm_cfg, clahe=False, hist_match=False, exp_name=experiment_name)"
   ]
  },
  {
   "cell_type": "code",
   "execution_count": 5,
   "metadata": {},
   "outputs": [
    {
     "name": "stderr",
     "output_type": "stream",
     "text": [
      "  0%|          | 0/4 [00:00<?, ?it/s]"
     ]
    },
    {
     "name": "stdout",
     "output_type": "stream",
     "text": [
      "Estimating transformation case copd1...\n",
      "Transforming points...\n",
      "Transforming lung mask...\n"
     ]
    },
    {
     "name": "stderr",
     "output_type": "stream",
     "text": [
      " 25%|██▌       | 1/4 [05:14<15:43, 314.45s/it]"
     ]
    },
    {
     "name": "stdout",
     "output_type": "stream",
     "text": [
      "TRE estimated: 1.18, 1.1\n",
      "Initial displacement GT: 25.9, 25.9\n",
      "Estimating transformation case copd2...\n",
      "Transforming points...\n",
      "Transforming lung mask...\n"
     ]
    },
    {
     "name": "stderr",
     "output_type": "stream",
     "text": [
      " 50%|█████     | 2/4 [10:01<09:56, 298.47s/it]"
     ]
    },
    {
     "name": "stdout",
     "output_type": "stream",
     "text": [
      "TRE estimated: 3.21, 5.03\n",
      "Initial displacement GT: 21.77, 21.77\n",
      "Estimating transformation case copd3...\n",
      "Transforming points...\n",
      "Transforming lung mask...\n"
     ]
    },
    {
     "name": "stderr",
     "output_type": "stream",
     "text": [
      " 75%|███████▌  | 3/4 [15:19<05:07, 307.09s/it]"
     ]
    },
    {
     "name": "stdout",
     "output_type": "stream",
     "text": [
      "TRE estimated: 1.15, 1.0\n",
      "Initial displacement GT: 12.29, 12.29\n",
      "Estimating transformation case copd4...\n",
      "Transforming points...\n",
      "Transforming lung mask...\n"
     ]
    },
    {
     "name": "stderr",
     "output_type": "stream",
     "text": [
      "100%|██████████| 4/4 [19:32<00:00, 293.19s/it]"
     ]
    },
    {
     "name": "stdout",
     "output_type": "stream",
     "text": [
      "TRE estimated: 1.47, 1.13\n",
      "Initial displacement GT: 30.9, 30.9\n"
     ]
    },
    {
     "name": "stderr",
     "output_type": "stream",
     "text": [
      "\n"
     ]
    }
   ],
   "source": [
    "norm_cfg = {\n",
    "    'norm_type': 'min-max',\n",
    "    'mask': 'body',\n",
    "    'max_val': 255,\n",
    "    'window': [-1024, 600],\n",
    "    'dtype': 'uint8',\n",
    "}\n",
    "experiment_name = 'OUR-P0003-8-Lungs-Window-MMB'\n",
    "run_preproc_experiment(norm_cfg, clahe=False, hist_match=False, exp_name=experiment_name)"
   ]
  },
  {
   "attachments": {},
   "cell_type": "markdown",
   "metadata": {},
   "source": [
    "clahe"
   ]
  },
  {
   "cell_type": "code",
   "execution_count": 6,
   "metadata": {},
   "outputs": [
    {
     "name": "stderr",
     "output_type": "stream",
     "text": [
      "  0%|          | 0/4 [00:00<?, ?it/s]"
     ]
    },
    {
     "name": "stdout",
     "output_type": "stream",
     "text": [
      "Estimating transformation case copd1...\n",
      "Transforming points...\n",
      "Transforming lung mask...\n"
     ]
    },
    {
     "name": "stderr",
     "output_type": "stream",
     "text": [
      " 25%|██▌       | 1/4 [08:09<24:28, 489.43s/it]"
     ]
    },
    {
     "name": "stdout",
     "output_type": "stream",
     "text": [
      "TRE estimated: 1.35, 1.7\n",
      "Initial displacement GT: 25.9, 25.9\n",
      "Estimating transformation case copd2...\n",
      "Transforming points...\n",
      "Transforming lung mask...\n"
     ]
    },
    {
     "name": "stderr",
     "output_type": "stream",
     "text": [
      " 50%|█████     | 2/4 [15:59<15:56, 478.12s/it]"
     ]
    },
    {
     "name": "stdout",
     "output_type": "stream",
     "text": [
      "TRE estimated: 3.3, 5.18\n",
      "Initial displacement GT: 21.77, 21.77\n",
      "Estimating transformation case copd3...\n",
      "Transforming points...\n",
      "Transforming lung mask...\n"
     ]
    },
    {
     "name": "stderr",
     "output_type": "stream",
     "text": [
      " 75%|███████▌  | 3/4 [24:28<08:12, 492.11s/it]"
     ]
    },
    {
     "name": "stdout",
     "output_type": "stream",
     "text": [
      "TRE estimated: 1.1, 0.96\n",
      "Initial displacement GT: 12.29, 12.29\n",
      "Estimating transformation case copd4...\n",
      "Transforming points...\n",
      "Transforming lung mask...\n"
     ]
    },
    {
     "name": "stderr",
     "output_type": "stream",
     "text": [
      "100%|██████████| 4/4 [31:09<00:00, 467.36s/it]"
     ]
    },
    {
     "name": "stdout",
     "output_type": "stream",
     "text": [
      "TRE estimated: 11.54, 18.43\n",
      "Initial displacement GT: 30.9, 30.9\n"
     ]
    },
    {
     "name": "stderr",
     "output_type": "stream",
     "text": [
      "\n"
     ]
    }
   ],
   "source": [
    "norm_cfg = {\n",
    "    'norm_type': None,\n",
    "    'mask': None,\n",
    "    'max_val': 255,\n",
    "    'window': None,\n",
    "    'dtype': 'uint8',\n",
    "}\n",
    "experiment_name = 'OUR-P0003-8-Lungs-Clahe-None'\n",
    "run_preproc_experiment(norm_cfg, clahe=True, hist_match=False, exp_name=experiment_name)"
   ]
  },
  {
   "cell_type": "code",
   "execution_count": 7,
   "metadata": {},
   "outputs": [
    {
     "name": "stderr",
     "output_type": "stream",
     "text": [
      "  0%|          | 0/4 [00:00<?, ?it/s]"
     ]
    },
    {
     "name": "stdout",
     "output_type": "stream",
     "text": [
      "Estimating transformation case copd1...\n",
      "Transforming points...\n",
      "Transforming lung mask...\n"
     ]
    },
    {
     "name": "stderr",
     "output_type": "stream",
     "text": [
      " 25%|██▌       | 1/4 [05:06<15:20, 306.98s/it]"
     ]
    },
    {
     "name": "stdout",
     "output_type": "stream",
     "text": [
      "TRE estimated: 1.26, 1.31\n",
      "Initial displacement GT: 25.9, 25.9\n",
      "Estimating transformation case copd2...\n",
      "Transforming points...\n",
      "Transforming lung mask...\n"
     ]
    },
    {
     "name": "stderr",
     "output_type": "stream",
     "text": [
      " 50%|█████     | 2/4 [09:56<09:53, 296.72s/it]"
     ]
    },
    {
     "name": "stdout",
     "output_type": "stream",
     "text": [
      "TRE estimated: 3.44, 5.41\n",
      "Initial displacement GT: 21.77, 21.77\n",
      "Estimating transformation case copd3...\n",
      "Transforming points...\n",
      "Transforming lung mask...\n"
     ]
    },
    {
     "name": "stderr",
     "output_type": "stream",
     "text": [
      " 75%|███████▌  | 3/4 [15:14<05:06, 306.32s/it]"
     ]
    },
    {
     "name": "stdout",
     "output_type": "stream",
     "text": [
      "TRE estimated: 1.09, 0.96\n",
      "Initial displacement GT: 12.29, 12.29\n",
      "Estimating transformation case copd4...\n",
      "Transforming points...\n",
      "Transforming lung mask...\n"
     ]
    },
    {
     "name": "stderr",
     "output_type": "stream",
     "text": [
      "100%|██████████| 4/4 [20:30<00:00, 307.57s/it]"
     ]
    },
    {
     "name": "stdout",
     "output_type": "stream",
     "text": [
      "TRE estimated: 8.6, 16.94\n",
      "Initial displacement GT: 30.9, 30.9\n"
     ]
    },
    {
     "name": "stderr",
     "output_type": "stream",
     "text": [
      "\n"
     ]
    }
   ],
   "source": [
    "norm_cfg = {\n",
    "    'norm_type': 'min-max',\n",
    "    'mask': None,\n",
    "    'max_val': 255,\n",
    "    'window': None,\n",
    "    'dtype': 'uint8',\n",
    "}\n",
    "experiment_name = 'OUR-P0003-8-Lungs-Clahe-MM'\n",
    "run_preproc_experiment(norm_cfg, clahe=True, hist_match=False, exp_name=experiment_name)"
   ]
  },
  {
   "cell_type": "code",
   "execution_count": 8,
   "metadata": {},
   "outputs": [
    {
     "name": "stderr",
     "output_type": "stream",
     "text": [
      "  0%|          | 0/4 [00:00<?, ?it/s]"
     ]
    },
    {
     "name": "stdout",
     "output_type": "stream",
     "text": [
      "Estimating transformation case copd1...\n",
      "Transforming points...\n",
      "Transforming lung mask...\n"
     ]
    },
    {
     "name": "stderr",
     "output_type": "stream",
     "text": [
      " 25%|██▌       | 1/4 [05:07<15:21, 307.18s/it]"
     ]
    },
    {
     "name": "stdout",
     "output_type": "stream",
     "text": [
      "TRE estimated: 1.27, 1.61\n",
      "Initial displacement GT: 25.9, 25.9\n",
      "Estimating transformation case copd2...\n",
      "Transforming points...\n",
      "Transforming lung mask...\n"
     ]
    },
    {
     "name": "stderr",
     "output_type": "stream",
     "text": [
      " 50%|█████     | 2/4 [10:29<10:32, 316.04s/it]"
     ]
    },
    {
     "name": "stdout",
     "output_type": "stream",
     "text": [
      "TRE estimated: 3.31, 5.28\n",
      "Initial displacement GT: 21.77, 21.77\n",
      "Estimating transformation case copd3...\n",
      "Transforming points...\n",
      "Transforming lung mask...\n"
     ]
    },
    {
     "name": "stderr",
     "output_type": "stream",
     "text": [
      " 75%|███████▌  | 3/4 [16:48<05:44, 344.90s/it]"
     ]
    },
    {
     "name": "stdout",
     "output_type": "stream",
     "text": [
      "TRE estimated: 1.11, 0.97\n",
      "Initial displacement GT: 12.29, 12.29\n",
      "Estimating transformation case copd4...\n",
      "Transforming points...\n",
      "Transforming lung mask...\n"
     ]
    },
    {
     "name": "stderr",
     "output_type": "stream",
     "text": [
      "100%|██████████| 4/4 [22:28<00:00, 337.16s/it]"
     ]
    },
    {
     "name": "stdout",
     "output_type": "stream",
     "text": [
      "TRE estimated: 9.32, 17.16\n",
      "Initial displacement GT: 30.9, 30.9\n"
     ]
    },
    {
     "name": "stderr",
     "output_type": "stream",
     "text": [
      "\n"
     ]
    }
   ],
   "source": [
    "norm_cfg = {\n",
    "    'norm_type': 'min-max',\n",
    "    'mask': 'lungs',\n",
    "    'max_val': 255,\n",
    "    'window': None,\n",
    "    'dtype': 'uint8',\n",
    "}\n",
    "experiment_name = 'OUR-P0003-8-Lungs-Clahe-MML'\n",
    "run_preproc_experiment(norm_cfg, clahe=True, hist_match=False, exp_name=experiment_name)"
   ]
  },
  {
   "cell_type": "code",
   "execution_count": 9,
   "metadata": {},
   "outputs": [
    {
     "name": "stderr",
     "output_type": "stream",
     "text": [
      "  0%|          | 0/4 [00:00<?, ?it/s]"
     ]
    },
    {
     "name": "stdout",
     "output_type": "stream",
     "text": [
      "Estimating transformation case copd1...\n",
      "Transforming points...\n",
      "Transforming lung mask...\n"
     ]
    },
    {
     "name": "stderr",
     "output_type": "stream",
     "text": [
      " 25%|██▌       | 1/4 [05:11<15:33, 311.04s/it]"
     ]
    },
    {
     "name": "stdout",
     "output_type": "stream",
     "text": [
      "TRE estimated: 1.3, 1.6\n",
      "Initial displacement GT: 25.9, 25.9\n",
      "Estimating transformation case copd2...\n",
      "Transforming points...\n",
      "Transforming lung mask...\n"
     ]
    },
    {
     "name": "stderr",
     "output_type": "stream",
     "text": [
      " 50%|█████     | 2/4 [10:20<10:19, 309.92s/it]"
     ]
    },
    {
     "name": "stdout",
     "output_type": "stream",
     "text": [
      "TRE estimated: 3.39, 5.42\n",
      "Initial displacement GT: 21.77, 21.77\n",
      "Estimating transformation case copd3...\n",
      "Transforming points...\n",
      "Transforming lung mask...\n"
     ]
    },
    {
     "name": "stderr",
     "output_type": "stream",
     "text": [
      " 75%|███████▌  | 3/4 [15:51<05:19, 319.78s/it]"
     ]
    },
    {
     "name": "stdout",
     "output_type": "stream",
     "text": [
      "TRE estimated: 1.11, 0.96\n",
      "Initial displacement GT: 12.29, 12.29\n",
      "Estimating transformation case copd4...\n",
      "Transforming points...\n",
      "Transforming lung mask...\n"
     ]
    },
    {
     "name": "stderr",
     "output_type": "stream",
     "text": [
      "100%|██████████| 4/4 [21:08<00:00, 317.06s/it]"
     ]
    },
    {
     "name": "stdout",
     "output_type": "stream",
     "text": [
      "TRE estimated: 10.02, 17.75\n",
      "Initial displacement GT: 30.9, 30.9\n"
     ]
    },
    {
     "name": "stderr",
     "output_type": "stream",
     "text": [
      "\n"
     ]
    }
   ],
   "source": [
    "norm_cfg = {\n",
    "    'norm_type': 'min-max',\n",
    "    'mask': 'body',\n",
    "    'max_val': 255,\n",
    "    'window': None,\n",
    "    'dtype': 'uint8',\n",
    "}\n",
    "experiment_name = 'OUR-P0003-8-Body-Clahe-MMB'\n",
    "run_preproc_experiment(norm_cfg, clahe=True, hist_match=False, exp_name=experiment_name)"
   ]
  },
  {
   "attachments": {},
   "cell_type": "markdown",
   "metadata": {},
   "source": [
    "Nothing"
   ]
  },
  {
   "cell_type": "code",
   "execution_count": 10,
   "metadata": {},
   "outputs": [
    {
     "name": "stderr",
     "output_type": "stream",
     "text": [
      "  0%|          | 0/4 [00:00<?, ?it/s]"
     ]
    },
    {
     "name": "stdout",
     "output_type": "stream",
     "text": [
      "Estimating transformation case copd1...\n",
      "Transforming points...\n",
      "Transforming lung mask...\n"
     ]
    },
    {
     "name": "stderr",
     "output_type": "stream",
     "text": [
      " 25%|██▌       | 1/4 [04:34<13:43, 274.48s/it]"
     ]
    },
    {
     "name": "stdout",
     "output_type": "stream",
     "text": [
      "TRE estimated: 1.15, 1.04\n",
      "Initial displacement GT: 25.9, 25.9\n",
      "Estimating transformation case copd2...\n",
      "Transforming points...\n",
      "Transforming lung mask...\n"
     ]
    },
    {
     "name": "stderr",
     "output_type": "stream",
     "text": [
      " 50%|█████     | 2/4 [08:45<08:41, 260.56s/it]"
     ]
    },
    {
     "name": "stdout",
     "output_type": "stream",
     "text": [
      "TRE estimated: 2.21, 2.73\n",
      "Initial displacement GT: 21.77, 21.77\n",
      "Estimating transformation case copd3...\n",
      "Transforming points...\n",
      "Transforming lung mask...\n"
     ]
    },
    {
     "name": "stderr",
     "output_type": "stream",
     "text": [
      " 75%|███████▌  | 3/4 [13:34<04:33, 273.58s/it]"
     ]
    },
    {
     "name": "stdout",
     "output_type": "stream",
     "text": [
      "TRE estimated: 1.14, 1.0\n",
      "Initial displacement GT: 12.29, 12.29\n",
      "Estimating transformation case copd4...\n",
      "Transforming points...\n",
      "Transforming lung mask...\n"
     ]
    },
    {
     "name": "stderr",
     "output_type": "stream",
     "text": [
      "100%|██████████| 4/4 [18:09<00:00, 272.49s/it]"
     ]
    },
    {
     "name": "stdout",
     "output_type": "stream",
     "text": [
      "TRE estimated: 1.37, 1.01\n",
      "Initial displacement GT: 30.9, 30.9\n"
     ]
    },
    {
     "name": "stderr",
     "output_type": "stream",
     "text": [
      "\n"
     ]
    }
   ],
   "source": [
    "norm_cfg = {\n",
    "    'norm_type': None,\n",
    "    'mask': None,\n",
    "    'max_val': 255,\n",
    "    'window': None,\n",
    "    'dtype': 'uint8',\n",
    "}\n",
    "experiment_name = 'OUR-P0003-8-Lungs-Nth-None'\n",
    "run_preproc_experiment(norm_cfg, clahe=False, hist_match=False, exp_name=experiment_name)"
   ]
  },
  {
   "cell_type": "code",
   "execution_count": 11,
   "metadata": {},
   "outputs": [
    {
     "name": "stderr",
     "output_type": "stream",
     "text": [
      "  0%|          | 0/4 [00:00<?, ?it/s]"
     ]
    },
    {
     "name": "stdout",
     "output_type": "stream",
     "text": [
      "Estimating transformation case copd1...\n",
      "Transforming points...\n",
      "Transforming lung mask...\n"
     ]
    },
    {
     "name": "stderr",
     "output_type": "stream",
     "text": [
      " 25%|██▌       | 1/4 [04:38<13:54, 278.23s/it]"
     ]
    },
    {
     "name": "stdout",
     "output_type": "stream",
     "text": [
      "TRE estimated: 1.16, 1.08\n",
      "Initial displacement GT: 25.9, 25.9\n",
      "Estimating transformation case copd2...\n",
      "Transforming points...\n",
      "Transforming lung mask...\n"
     ]
    },
    {
     "name": "stderr",
     "output_type": "stream",
     "text": [
      " 50%|█████     | 2/4 [08:50<08:46, 263.17s/it]"
     ]
    },
    {
     "name": "stdout",
     "output_type": "stream",
     "text": [
      "TRE estimated: 2.22, 2.89\n",
      "Initial displacement GT: 21.77, 21.77\n",
      "Estimating transformation case copd3...\n",
      "Transforming points...\n",
      "Transforming lung mask...\n"
     ]
    },
    {
     "name": "stderr",
     "output_type": "stream",
     "text": [
      " 75%|███████▌  | 3/4 [14:03<04:45, 285.66s/it]"
     ]
    },
    {
     "name": "stdout",
     "output_type": "stream",
     "text": [
      "TRE estimated: 1.16, 0.99\n",
      "Initial displacement GT: 12.29, 12.29\n",
      "Estimating transformation case copd4...\n",
      "Transforming points...\n",
      "Transforming lung mask...\n"
     ]
    },
    {
     "name": "stderr",
     "output_type": "stream",
     "text": [
      "100%|██████████| 4/4 [19:25<00:00, 291.30s/it]"
     ]
    },
    {
     "name": "stdout",
     "output_type": "stream",
     "text": [
      "TRE estimated: 1.39, 1.01\n",
      "Initial displacement GT: 30.9, 30.9\n"
     ]
    },
    {
     "name": "stderr",
     "output_type": "stream",
     "text": [
      "\n"
     ]
    }
   ],
   "source": [
    "norm_cfg = {\n",
    "    'norm_type': 'min-max',\n",
    "    'mask': None,\n",
    "    'max_val': 255,\n",
    "    'window': None,\n",
    "    'dtype': 'uint8',\n",
    "}\n",
    "experiment_name = 'OUR-P0003-8-Lungs-Nth-MM'\n",
    "run_preproc_experiment(norm_cfg, clahe=False, hist_match=False, exp_name=experiment_name)"
   ]
  },
  {
   "cell_type": "code",
   "execution_count": 12,
   "metadata": {},
   "outputs": [
    {
     "name": "stderr",
     "output_type": "stream",
     "text": [
      "  0%|          | 0/4 [00:00<?, ?it/s]"
     ]
    },
    {
     "name": "stdout",
     "output_type": "stream",
     "text": [
      "Estimating transformation case copd1...\n",
      "Transforming points...\n",
      "Transforming lung mask...\n"
     ]
    },
    {
     "name": "stderr",
     "output_type": "stream",
     "text": [
      " 25%|██▌       | 1/4 [05:05<15:17, 305.76s/it]"
     ]
    },
    {
     "name": "stdout",
     "output_type": "stream",
     "text": [
      "TRE estimated: 1.16, 1.05\n",
      "Initial displacement GT: 25.9, 25.9\n",
      "Estimating transformation case copd2...\n",
      "Transforming points...\n",
      "Transforming lung mask...\n"
     ]
    },
    {
     "name": "stderr",
     "output_type": "stream",
     "text": [
      " 50%|█████     | 2/4 [09:29<09:22, 281.12s/it]"
     ]
    },
    {
     "name": "stdout",
     "output_type": "stream",
     "text": [
      "TRE estimated: 2.25, 2.82\n",
      "Initial displacement GT: 21.77, 21.77\n",
      "Estimating transformation case copd3...\n",
      "Transforming points...\n",
      "Transforming lung mask...\n"
     ]
    },
    {
     "name": "stderr",
     "output_type": "stream",
     "text": [
      " 75%|███████▌  | 3/4 [14:26<04:48, 288.32s/it]"
     ]
    },
    {
     "name": "stdout",
     "output_type": "stream",
     "text": [
      "TRE estimated: 1.14, 1.0\n",
      "Initial displacement GT: 12.29, 12.29\n",
      "Estimating transformation case copd4...\n",
      "Transforming points...\n",
      "Transforming lung mask...\n"
     ]
    },
    {
     "name": "stderr",
     "output_type": "stream",
     "text": [
      "100%|██████████| 4/4 [18:50<00:00, 282.65s/it]"
     ]
    },
    {
     "name": "stdout",
     "output_type": "stream",
     "text": [
      "TRE estimated: 1.39, 1.03\n",
      "Initial displacement GT: 30.9, 30.9\n"
     ]
    },
    {
     "name": "stderr",
     "output_type": "stream",
     "text": [
      "\n"
     ]
    }
   ],
   "source": [
    "norm_cfg = {\n",
    "    'norm_type': 'min-max',\n",
    "    'mask': 'lungs',\n",
    "    'max_val': 255,\n",
    "    'window': None,\n",
    "    'dtype': 'uint8',\n",
    "}\n",
    "experiment_name = 'OUR-P0003-8-Lungs-Nth-MML'\n",
    "run_preproc_experiment(norm_cfg, clahe=False, hist_match=False, exp_name=experiment_name)"
   ]
  },
  {
   "cell_type": "code",
   "execution_count": 13,
   "metadata": {},
   "outputs": [
    {
     "name": "stderr",
     "output_type": "stream",
     "text": [
      "  0%|          | 0/4 [00:00<?, ?it/s]"
     ]
    },
    {
     "name": "stdout",
     "output_type": "stream",
     "text": [
      "Estimating transformation case copd1...\n",
      "Transforming points...\n",
      "Transforming lung mask...\n"
     ]
    },
    {
     "name": "stderr",
     "output_type": "stream",
     "text": [
      " 25%|██▌       | 1/4 [04:37<13:53, 277.83s/it]"
     ]
    },
    {
     "name": "stdout",
     "output_type": "stream",
     "text": [
      "TRE estimated: 1.16, 1.09\n",
      "Initial displacement GT: 25.9, 25.9\n",
      "Estimating transformation case copd2...\n",
      "Transforming points...\n",
      "Transforming lung mask...\n"
     ]
    },
    {
     "name": "stderr",
     "output_type": "stream",
     "text": [
      " 50%|█████     | 2/4 [08:46<08:41, 260.90s/it]"
     ]
    },
    {
     "name": "stdout",
     "output_type": "stream",
     "text": [
      "TRE estimated: 2.19, 2.75\n",
      "Initial displacement GT: 21.77, 21.77\n",
      "Estimating transformation case copd3...\n",
      "Transforming points...\n",
      "Transforming lung mask...\n"
     ]
    },
    {
     "name": "stderr",
     "output_type": "stream",
     "text": [
      " 75%|███████▌  | 3/4 [13:24<04:28, 268.68s/it]"
     ]
    },
    {
     "name": "stdout",
     "output_type": "stream",
     "text": [
      "TRE estimated: 1.16, 1.0\n",
      "Initial displacement GT: 12.29, 12.29\n",
      "Estimating transformation case copd4...\n",
      "Transforming points...\n",
      "Transforming lung mask...\n"
     ]
    },
    {
     "name": "stderr",
     "output_type": "stream",
     "text": [
      "100%|██████████| 4/4 [17:59<00:00, 269.77s/it]"
     ]
    },
    {
     "name": "stdout",
     "output_type": "stream",
     "text": [
      "TRE estimated: 1.38, 1.02\n",
      "Initial displacement GT: 30.9, 30.9\n"
     ]
    },
    {
     "name": "stderr",
     "output_type": "stream",
     "text": [
      "\n"
     ]
    }
   ],
   "source": [
    "norm_cfg = {\n",
    "    'norm_type': 'min-max',\n",
    "    'mask': 'body',\n",
    "    'max_val': 255,\n",
    "    'window': None,\n",
    "    'dtype': 'uint8',\n",
    "}\n",
    "experiment_name = 'OUR-P0003-8-Body-Nth-MMB'\n",
    "run_preproc_experiment(norm_cfg, clahe=False, hist_match=False, exp_name=experiment_name)"
   ]
  },
  {
   "cell_type": "code",
   "execution_count": null,
   "metadata": {},
   "outputs": [],
   "source": []
  },
  {
   "cell_type": "code",
   "execution_count": 14,
   "metadata": {},
   "outputs": [],
   "source": [
    "with open(results_path, 'r') as json_file:\n",
    "    results = json.load(json_file)"
   ]
  },
  {
   "cell_type": "code",
   "execution_count": 15,
   "metadata": {},
   "outputs": [],
   "source": [
    "import matplotlib.pyplot as plt\n",
    "import seaborn as sns"
   ]
  },
  {
   "cell_type": "code",
   "execution_count": 16,
   "metadata": {},
   "outputs": [
    {
     "data": {
      "text/html": [
       "<div>\n",
       "<style scoped>\n",
       "    .dataframe tbody tr th:only-of-type {\n",
       "        vertical-align: middle;\n",
       "    }\n",
       "\n",
       "    .dataframe tbody tr th {\n",
       "        vertical-align: top;\n",
       "    }\n",
       "\n",
       "    .dataframe thead th {\n",
       "        text-align: right;\n",
       "    }\n",
       "</style>\n",
       "<table border=\"1\" class=\"dataframe\">\n",
       "  <thead>\n",
       "    <tr style=\"text-align: right;\">\n",
       "      <th></th>\n",
       "      <th>exp_name</th>\n",
       "      <th>mean_tre</th>\n",
       "      <th>std_tre</th>\n",
       "      <th>time</th>\n",
       "      <th>case</th>\n",
       "    </tr>\n",
       "  </thead>\n",
       "  <tbody>\n",
       "    <tr>\n",
       "      <th>0</th>\n",
       "      <td>P0007-Coarse-None-None</td>\n",
       "      <td>8.80</td>\n",
       "      <td>4.81</td>\n",
       "      <td>40.899614</td>\n",
       "      <td>copd1</td>\n",
       "    </tr>\n",
       "    <tr>\n",
       "      <th>1</th>\n",
       "      <td>P0007-Coarse-None-None</td>\n",
       "      <td>13.15</td>\n",
       "      <td>6.29</td>\n",
       "      <td>38.984830</td>\n",
       "      <td>copd2</td>\n",
       "    </tr>\n",
       "    <tr>\n",
       "      <th>2</th>\n",
       "      <td>P0007-Coarse-None-None</td>\n",
       "      <td>4.91</td>\n",
       "      <td>2.97</td>\n",
       "      <td>42.730338</td>\n",
       "      <td>copd3</td>\n",
       "    </tr>\n",
       "    <tr>\n",
       "      <th>3</th>\n",
       "      <td>P0007-Coarse-None-None</td>\n",
       "      <td>9.86</td>\n",
       "      <td>4.04</td>\n",
       "      <td>45.719937</td>\n",
       "      <td>copd4</td>\n",
       "    </tr>\n",
       "    <tr>\n",
       "      <th>4</th>\n",
       "      <td>P0007-Coarse+Fine-None-None</td>\n",
       "      <td>8.79</td>\n",
       "      <td>4.82</td>\n",
       "      <td>93.952092</td>\n",
       "      <td>copd1</td>\n",
       "    </tr>\n",
       "    <tr>\n",
       "      <th>...</th>\n",
       "      <td>...</td>\n",
       "      <td>...</td>\n",
       "      <td>...</td>\n",
       "      <td>...</td>\n",
       "      <td>...</td>\n",
       "    </tr>\n",
       "    <tr>\n",
       "      <th>171</th>\n",
       "      <td>OUR-P0003-8-Lungs-Nth-MML</td>\n",
       "      <td>1.39</td>\n",
       "      <td>1.03</td>\n",
       "      <td>227.180979</td>\n",
       "      <td>copd4</td>\n",
       "    </tr>\n",
       "    <tr>\n",
       "      <th>172</th>\n",
       "      <td>OUR-P0003-8-Body-Nth-MMB</td>\n",
       "      <td>1.16</td>\n",
       "      <td>1.09</td>\n",
       "      <td>240.205580</td>\n",
       "      <td>copd1</td>\n",
       "    </tr>\n",
       "    <tr>\n",
       "      <th>173</th>\n",
       "      <td>OUR-P0003-8-Body-Nth-MMB</td>\n",
       "      <td>2.19</td>\n",
       "      <td>2.75</td>\n",
       "      <td>217.152526</td>\n",
       "      <td>copd2</td>\n",
       "    </tr>\n",
       "    <tr>\n",
       "      <th>174</th>\n",
       "      <td>OUR-P0003-8-Body-Nth-MMB</td>\n",
       "      <td>1.16</td>\n",
       "      <td>1.00</td>\n",
       "      <td>237.835988</td>\n",
       "      <td>copd3</td>\n",
       "    </tr>\n",
       "    <tr>\n",
       "      <th>175</th>\n",
       "      <td>OUR-P0003-8-Body-Nth-MMB</td>\n",
       "      <td>1.38</td>\n",
       "      <td>1.02</td>\n",
       "      <td>231.040386</td>\n",
       "      <td>copd4</td>\n",
       "    </tr>\n",
       "  </tbody>\n",
       "</table>\n",
       "<p>176 rows × 5 columns</p>\n",
       "</div>"
      ],
      "text/plain": [
       "                        exp_name  mean_tre  std_tre        time   case\n",
       "0         P0007-Coarse-None-None      8.80     4.81   40.899614  copd1\n",
       "1         P0007-Coarse-None-None     13.15     6.29   38.984830  copd2\n",
       "2         P0007-Coarse-None-None      4.91     2.97   42.730338  copd3\n",
       "3         P0007-Coarse-None-None      9.86     4.04   45.719937  copd4\n",
       "4    P0007-Coarse+Fine-None-None      8.79     4.82   93.952092  copd1\n",
       "..                           ...       ...      ...         ...    ...\n",
       "171    OUR-P0003-8-Lungs-Nth-MML      1.39     1.03  227.180979  copd4\n",
       "172     OUR-P0003-8-Body-Nth-MMB      1.16     1.09  240.205580  copd1\n",
       "173     OUR-P0003-8-Body-Nth-MMB      2.19     2.75  217.152526  copd2\n",
       "174     OUR-P0003-8-Body-Nth-MMB      1.16     1.00  237.835988  copd3\n",
       "175     OUR-P0003-8-Body-Nth-MMB      1.38     1.02  231.040386  copd4\n",
       "\n",
       "[176 rows x 5 columns]"
      ]
     },
     "execution_count": 16,
     "metadata": {},
     "output_type": "execute_result"
    }
   ],
   "source": [
    "df = []\n",
    "for exp_name in results.keys():\n",
    "    if results[exp_name] is None:\n",
    "        row = [None, None, None, None, None]\n",
    "    else:\n",
    "        for case in results[exp_name].keys():\n",
    "            columns = ['exp_name'] + list(results[exp_name][case].keys()) + ['case']\n",
    "            row = [exp_name] + list(results[exp_name][case].values()) + [case]\n",
    "            df.append(row)\n",
    "df = pd.DataFrame(df, columns=columns)\n",
    "df"
   ]
  },
  {
   "cell_type": "code",
   "execution_count": 17,
   "metadata": {},
   "outputs": [
    {
     "name": "stderr",
     "output_type": "stream",
     "text": [
      "No artists with labels found to put in legend.  Note that artists whose label start with an underscore are ignored when legend() is called with no argument.\n"
     ]
    },
    {
     "data": {
      "image/png": "[encoded data removed]",
      "text/plain": [
       "<Figure size 1000x400 with 1 Axes>"
      ]
     },
     "metadata": {},
     "output_type": "display_data"
    }
   ],
   "source": [
    "plt.figure(figsize=(10, 4))\n",
    "plt.title('Dice score across experiments grouped by tissue and experient', fontsize=14)\n",
    "sns.boxplot(data=df, x=\"exp_name\", y=\"mean_tre\")\n",
    "sns.despine()\n",
    "plt.grid(axis='y')\n",
    "plt.xlabel('Experiment Name', fontsize=12)\n",
    "plt.xticks(rotation=90)\n",
    "plt.ylabel('Mean TRE', fontsize=12)\n",
    "plt.legend(loc='lower right', title='Models', fontsize=10)\n",
    "plt.pause(0.01)"
   ]
  },
  {
   "cell_type": "code",
   "execution_count": 18,
   "metadata": {},
   "outputs": [
    {
     "data": {
      "text/plain": [
       "['OUR-P0003-R5ug-pyram-Lungs-None',\n",
       " 'OUR-P0003-pyram-Lungs-None',\n",
       " 'OUR-P0003-Optim-Lungs-None',\n",
       " 'OUR-P0003-Grid-Lungs-None',\n",
       " 'OUR-P0003-Grid2-Lungs-None',\n",
       " 'OUR-P0003-n_samples_1-Lungs-None',\n",
       " 'OUR-P0003-Recursive-Lungs-None',\n",
       " 'OUR-P0003-SmoothMetric-Lungs-None',\n",
       " 'OUR-P0003-RecursiveMetric-Lungs-None',\n",
       " 'OUR-P0003-n_samples_3-Lungs-None',\n",
       " 'OUR-P0003-8-Lungs-Window-None',\n",
       " 'OUR-P0003-8-Lungs-Window-MM',\n",
       " 'OUR-P0003-8-Lungs-Window-MML',\n",
       " 'OUR-P0003-8-Lungs-Clahe-None',\n",
       " 'OUR-P0003-8-Lungs-Window-MMB',\n",
       " 'OUR-P0003-8-Lungs-Clahe-MM',\n",
       " 'OUR-P0003-8-Lungs-Clahe-MML',\n",
       " 'OUR-P0003-8-Body-Clahe-MMB',\n",
       " 'OUR-P0003-8-Lungs-Nth-None',\n",
       " 'OUR-P0003-8-Lungs-Nth-MM',\n",
       " 'OUR-P0003-8-Lungs-Nth-MML',\n",
       " 'OUR-P0003-8-Body-Nth-MMB']"
      ]
     },
     "execution_count": 18,
     "metadata": {},
     "output_type": "execute_result"
    }
   ],
   "source": [
    "[i for i in df.exp_name.unique() if ('OUR' in i) or ('Nth' in i)]"
   ]
  },
  {
   "cell_type": "code",
   "execution_count": 19,
   "metadata": {},
   "outputs": [
    {
     "data": {
      "image/png": "[encoded data removed]",
      "text/plain": [
       "<Figure size 1000x400 with 1 Axes>"
      ]
     },
     "metadata": {},
     "output_type": "display_data"
    }
   ],
   "source": [
    "df_temp = df.loc[df.exp_name.isin([\n",
    "    'BSP-bsplines-Lungs-None', 'P0003-affine+R6ug-Lungs-None', 'P0003-affine+R4ug-Lungs-None', 'OUR-P0003-R5ug-pyram-Lungs-None',\n",
    "    'OUR-P0003-pyram-Lungs-None', 'OUR-P0003-Optim-Lungs-None', 'OUR-P0003-n_samples_1-Lungs-None',\n",
    "    'OUR-P0003-Recursive-Lungs-None', 'OUR-P0003-SmoothMetric-Lungs-None', 'OUR-P0003-RecursiveMetric-Lungs-None',\n",
    "    'OUR-P0003-n_samples_3-Lungs-None', 'OUR-P0003-8-Lungs-Nth-None', 'OUR-P0003-8-Lungs-Nth-MM',\n",
    "    'OUR-P0003-8-Lungs-Nth-MML', 'OUR-P0003-8-Body-Nth-MMB'\n",
    "    ])]\n",
    "plt.figure(figsize=(10, 4))\n",
    "plt.title('Dice score across experiments grouped by tissue and experient', fontsize=14)\n",
    "sns.boxplot(data=df_temp, x=\"exp_name\", y=\"mean_tre\")\n",
    "sns.despine()\n",
    "plt.grid(axis='y')\n",
    "plt.xlabel('Experiment Name', fontsize=12)\n",
    "plt.xticks(rotation=90)\n",
    "# plt.ylabel('Mean TRE', fontsize=12)\n",
    "# plt.legend(loc='lower right', title='Models', fontsize=10)\n",
    "plt.pause(0.01)\n",
    "# plt.xticks(rotation=90)"
   ]
  },
  {
   "cell_type": "code",
   "execution_count": 21,
   "metadata": {},
   "outputs": [
    {
     "data": {
      "image/png": "[encoded data removed]",
      "text/plain": [
       "<Figure size 1000x400 with 1 Axes>"
      ]
     },
     "metadata": {},
     "output_type": "display_data"
    }
   ],
   "source": [
    "df_temp = df.loc[df.exp_name.isin([\n",
    "    'BSP-bsplines-Lungs-None', 'OUR-P0003-Recursive-Lungs-None', 'OUR-P0003-SmoothMetric-Lungs-None',\n",
    "    'OUR-P0003-RecursiveMetric-Lungs-None', 'OUR-P0003-n_samples_3-Lungs-None'\n",
    "    ])]\n",
    "plt.figure(figsize=(10, 4))\n",
    "plt.title('Dice score across experiments grouped by tissue and experient', fontsize=14)\n",
    "sns.boxplot(data=df_temp, x=\"exp_name\", y=\"mean_tre\")\n",
    "sns.despine()\n",
    "plt.grid(axis='y')\n",
    "plt.xlabel('Experiment Name', fontsize=12)\n",
    "plt.xticks(rotation=90)\n",
    "# plt.ylabel('Mean TRE', fontsize=12)\n",
    "# plt.legend(loc='lower right', title='Models', fontsize=10)\n",
    "plt.pause(0.01)\n",
    "# plt.xticks(rotation=90)"
   ]
  },
  {
   "cell_type": "code",
   "execution_count": 29,
   "metadata": {},
   "outputs": [
    {
     "data": {
      "image/png": "[encoded data removed]",
      "text/plain": [
       "<Figure size 1000x400 with 1 Axes>"
      ]
     },
     "metadata": {},
     "output_type": "display_data"
    }
   ],
   "source": [
    "df_temp = df.loc[df.exp_name.isin([\n",
    "    'BSP-bsplines-Lungs-None', 'OUR-P0003-Recursive-Lungs-None', 'OUR-P0003-SmoothMetric-Lungs-None', 'OUR-P0003-RecursiveMetric-Lungs-None', 'OUR-P0003-n_samples_3-Lungs-None'\n",
    "    ])]\n",
    "plt.figure(figsize=(10, 4))\n",
    "plt.title('Dice score across experiments grouped by tissue and experient', fontsize=14)\n",
    "sns.barplot(data=df_temp, x=\"exp_name\", y=\"mean_tre\", hue='case')\n",
    "sns.despine()\n",
    "plt.grid(axis='y')\n",
    "plt.xlabel('Experiment Name', fontsize=12)\n",
    "plt.xticks(rotation=45)\n",
    "plt.ylabel('Mean TRE', fontsize=12)\n",
    "plt.legend(loc='lower right', title='Models', fontsize=10)\n",
    "plt.pause(0.01)"
   ]
  },
  {
   "cell_type": "code",
   "execution_count": 17,
   "metadata": {},
   "outputs": [
    {
     "data": {
      "image/png": "[encoded data removed]",
      "text/plain": [
       "<Figure size 1000x400 with 1 Axes>"
      ]
     },
     "metadata": {},
     "output_type": "display_data"
    }
   ],
   "source": [
    "df_temp = df.loc[df.exp_name.isin(['BSP-bsplines-Lungs-None', 'P0003-affine+R6ug-Lungs-None', 'P0003-affine+R4ug-Lungs-None'])]\n",
    "plt.figure(figsize=(10, 4))\n",
    "plt.title('Dice score across experiments grouped by tissue and experient', fontsize=14)\n",
    "sns.barplot(data=df_temp, x=\"exp_name\", y=\"std_tre\", hue='case')\n",
    "sns.despine()\n",
    "plt.grid(axis='y')\n",
    "plt.xlabel('Experiment Name', fontsize=12)\n",
    "# plt.xticks(rotation=90)\n",
    "plt.ylabel('Mean TRE', fontsize=12)\n",
    "plt.legend(loc='lower right', title='Models', fontsize=10)\n",
    "plt.pause(0.01)"
   ]
  },
  {
   "cell_type": "code",
   "execution_count": null,
   "metadata": {},
   "outputs": [],
   "source": []
  },
  {
   "cell_type": "code",
   "execution_count": 24,
   "metadata": {},
   "outputs": [],
   "source": [
    "landmarks = get_landmarks_array_from_txt_file(Path('/home/jseia/Desktop/MAIA/classes/spain/mira/final_project/marwan_data_anwai_results/copd2/copd2_300_iBH_xyz_r1.txt'))\n",
    "landmarks = pd.DataFrame(landmarks)\n",
    "landmarks.to_csv(\n",
    "    '/home/jseia/Desktop/MAIA/classes/spain/mira/final_project/marwan_data_anwai_results/copd2/copd2_300_iBH_xyz_r1_.txt',\n",
    "    index=False,\n",
    "    header=False\n",
    ")"
   ]
  },
  {
   "cell_type": "code",
   "execution_count": 25,
   "metadata": {},
   "outputs": [],
   "source": [
    "landmarks = get_landmarks_array_from_txt_file(Path('/home/jseia/Desktop/MAIA/classes/spain/mira/final_project/marwan_data_anwai_results/copd3/copd3_300_iBH_xyz_r1.txt'))\n",
    "landmarks = pd.DataFrame(landmarks)\n",
    "landmarks.to_csv(\n",
    "    '/home/jseia/Desktop/MAIA/classes/spain/mira/final_project/marwan_data_anwai_results/copd3/copd3_300_iBH_xyz_r1_.txt',\n",
    "    index=False,\n",
    "    header=False\n",
    ")"
   ]
  },
  {
   "cell_type": "code",
   "execution_count": 26,
   "metadata": {},
   "outputs": [],
   "source": [
    "landmarks = get_landmarks_array_from_txt_file(Path('/home/jseia/Desktop/MAIA/classes/spain/mira/final_project/marwan_data_anwai_results/copd4/copd4_300_iBH_xyz_r1.txt'))\n",
    "landmarks = pd.DataFrame(landmarks)\n",
    "landmarks.to_csv(\n",
    "    '/home/jseia/Desktop/MAIA/classes/spain/mira/final_project/marwan_data_anwai_results/copd4/copd4_300_iBH_xyz_r1_.txt',\n",
    "    index=False,\n",
    "    header=False\n",
    ")"
   ]
  }
 ],
 "metadata": {
  "kernelspec": {
   "display_name": "mira_fp",
   "language": "python",
   "name": "python3"
  },
  "language_info": {
   "codemirror_mode": {
    "name": "ipython",
    "version": 3
   },
   "file_extension": ".py",
   "mimetype": "text/x-python",
   "name": "python",
   "nbconvert_exporter": "python",
   "pygments_lexer": "ipython3",
   "version": "3.8.13"
  },
  "orig_nbformat": 4,
  "vscode": {
   "interpreter": {
    "hash": "88f7a4de3ef2058a2e13e032258b2d39a52d972958016348bb2928a62c97c1bd"
   }
  }
 },
 "nbformat": 4,
 "nbformat_minor": 2
}
