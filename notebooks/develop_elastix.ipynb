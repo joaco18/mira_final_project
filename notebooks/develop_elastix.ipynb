{
 "cells": [
  {
   "cell_type": "code",
   "execution_count": 1,
   "metadata": {},
   "outputs": [],
   "source": [
    "from pathlib import Path\n",
    "\n",
    "thispath = Path('__file__').resolve()\n",
    "base_path = thispath.parent.parent\n",
    "import sys; sys.path.insert(0, str(base_path))\n",
    "from dataset.copd_dataset import DirLabCOPD"
   ]
  },
  {
   "cell_type": "code",
   "execution_count": 2,
   "metadata": {},
   "outputs": [],
   "source": [
    "\n",
    "NORMALIZATION_CFG = {\n",
    "    'norm_type': 'min-max',\n",
    "    'mask': None,\n",
    "    'max_val': 255,\n",
    "    'window': [-1024, 600],\n",
    "    'dtype': 'uint8',\n",
    "}\n",
    "\n",
    "data = DirLabCOPD(\n",
    "    data_path=base_path/'data',\n",
    "    cases=['all'],\n",
    "    partitions=['train'],\n",
    "    return_lm_mask=True,\n",
    "    normalization_cfg=None,\n",
    "    return_body_masks=True,\n",
    "    return_lung_masks=True\n",
    ")"
   ]
  },
  {
   "cell_type": "code",
   "execution_count": 3,
   "metadata": {},
   "outputs": [],
   "source": [
    "import numpy as np\n",
    "\n",
    "def get_landmarks_from_array(lm_mask: np.ndarray) -> np.ndarray:\n",
    "    \"\"\"_summary_\n",
    "\n",
    "    Args:\n",
    "        lm_mask (np.ndarray): mask containing landmark points where each point\n",
    "            has a label coinciding to its index in the original dataset .txt.\n",
    "    Returns:\n",
    "        np.ndarray: array containing the x,y,z coordinates of each of the landmark\n",
    "            points orden according to the label index it has.\n",
    "    \"\"\"\n",
    "    locs = np.zeros((300, 3))\n",
    "    for i in np.unique(lm_mask):\n",
    "        if i != 0:\n",
    "            i = int(i)\n",
    "            x, y, z = np.where(lm_mask == i)\n",
    "            locs[i, :] = np.array([x[0], y[0], z[0]])\n",
    "            \n",
    "    return locs\n"
   ]
  },
  {
   "cell_type": "code",
   "execution_count": 7,
   "metadata": {},
   "outputs": [
    {
     "name": "stderr",
     "output_type": "stream",
     "text": [
      "  0%|          | 0/4 [00:00<?, ?it/s]"
     ]
    },
    {
     "name": "stdout",
     "output_type": "stream",
     "text": [
      "Estimating transformation...\n",
      "Reg time: 51.62588381767273\n",
      "Transforming points...\n"
     ]
    },
    {
     "name": "stderr",
     "output_type": "stream",
     "text": [
      " 25%|██▌       | 1/4 [01:09<03:28, 69.44s/it]"
     ]
    },
    {
     "name": "stdout",
     "output_type": "stream",
     "text": [
      "TRE estimated: (26.33, 11.42)\n",
      "TRE estimated: (48.75, 20.33)\n",
      "Initial displacement: (26.33, 11.42)\n",
      "Initial displacement GT: 25.925.9\n",
      "Estimating transformation...\n",
      "Reg time: 49.29538106918335\n",
      "Transforming points...\n"
     ]
    },
    {
     "name": "stderr",
     "output_type": "stream",
     "text": [
      " 50%|█████     | 2/4 [02:13<02:12, 66.21s/it]"
     ]
    },
    {
     "name": "stdout",
     "output_type": "stream",
     "text": [
      "TRE estimated: (21.79, 6.46)\n",
      "TRE estimated: (33.37, 7.96)\n",
      "Initial displacement: (21.79, 6.46)\n",
      "Initial displacement GT: 21.7721.77\n",
      "Estimating transformation...\n",
      "Reg time: 55.33826398849487\n",
      "Transforming points...\n"
     ]
    },
    {
     "name": "stderr",
     "output_type": "stream",
     "text": [
      " 75%|███████▌  | 3/4 [03:27<01:09, 69.64s/it]"
     ]
    },
    {
     "name": "stdout",
     "output_type": "stream",
     "text": [
      "TRE estimated: (12.64, 6.38)\n",
      "TRE estimated: (24.37, 12.94)\n",
      "Initial displacement: (12.64, 6.38)\n",
      "Initial displacement GT: 12.2912.29\n",
      "Estimating transformation...\n",
      "Reg time: 49.751301288604736\n",
      "Transforming points...\n"
     ]
    },
    {
     "name": "stderr",
     "output_type": "stream",
     "text": [
      "100%|██████████| 4/4 [04:34<00:00, 68.63s/it]"
     ]
    },
    {
     "name": "stdout",
     "output_type": "stream",
     "text": [
      "TRE estimated: (29.58, 12.92)\n",
      "TRE estimated: (62.32, 28.63)\n",
      "Initial displacement: (29.58, 12.92)\n",
      "Initial displacement GT: 30.930.9\n",
      "[(48.75, 20.33), (33.37, 7.96), (24.37, 12.94), (62.32, 28.63)]\n"
     ]
    },
    {
     "name": "stderr",
     "output_type": "stream",
     "text": [
      "\n"
     ]
    }
   ],
   "source": [
    "from utils.metrics import target_registration_error\n",
    "import elastix.elastix_utils as e_utils\n",
    "from utils.utils import save_img_from_array_using_metadata, get_landmarks_array_from_txt_file\n",
    "import SimpleITK as sitk\n",
    "import pandas as pd\n",
    "from tqdm import tqdm\n",
    "import time\n",
    "\n",
    "# Define parameter maps to use\n",
    "# param_maps_to_use = ['Par0003.affine.txt']\n",
    "\n",
    "# param_maps_to_use = [\n",
    "    # 'Parameters.MI.Coarse.Bspline_tuned.txt',\n",
    "    # 'Parameters.MI.Fine.Bspline_tuned.txt',\n",
    "    # 'Parameters.MI.RP.Bspline_tuned.txt'\n",
    "# ]\n",
    "\n",
    "param_maps_to_use = [\n",
    "    'Parameters.Par0008.affine.txt',\n",
    "    'Parameters.Par0008.elastic.txt'\n",
    "]\n",
    "\n",
    "# param_maps_to_use = [\n",
    "    # 'Par0003.affine.txt',\n",
    "    # 'Par0003.bs-R1-fg.txt',\n",
    "    # 'Par0003.bs-R2-fg.txt',\n",
    "    # 'Par0003.bs-R3-fg.txt',\n",
    "    # 'Par0003.bs-R4-fg.txt',\n",
    "    # 'Par0003.bs-R5-fg.txt',\n",
    "    # 'Par0003.bs-R6-fg.txt',\n",
    "    # 'Par0003.bs-R7-fg.txt',\n",
    "    # 'Par0003.bs-R8-fg.txt'\n",
    "# ]\n",
    "# param_maps_to_use = [\n",
    "#     'Par0003.affine.txt',\n",
    "#     'Par0003.bs-R1-ug.txt',\n",
    "#     'Par0003.bs-R2-ug.txt',\n",
    "#     'Par0003.bs-R3-ug.txt',\n",
    "#     'Par0003.bs-R4-ug.txt',\n",
    "#     'Par0003.bs-R5-ug.txt',\n",
    "#     'Par0003.bs-R6-ug.txt',\n",
    "#     'Par0003.bs-R7-ug.txt',\n",
    "#     'Par0003.bs-R8-ug.txt'\n",
    "# ]\n",
    "\n",
    "output_path = Path('/home/jseia/Desktop/MAIA/classes/spain/mira/final_project/mira_final_project/experiments/elastix')\n",
    "# params_path = Path('/home/jseia/Desktop/MAIA/classes/spain/mira/final_project/mira_final_project/elastix/parameter_maps/Par0003')\n",
    "params_path = Path('/home/jseia/Desktop/MAIA/classes/spain/mira/final_project/mira_final_project/elastix/parameter_maps/Par0008')\n",
    "tres = []\n",
    "# Define fixed imgage to use\n",
    "for i in tqdm(range(len(data))):\n",
    "    sample = data[i]\n",
    "    # for pm in param_maps_to_use:\n",
    "    # Define output paths\n",
    "    pm = param_maps_to_use[-1]\n",
    "    output_pm_path = output_path / pm.rstrip('.txt')\n",
    "    output_pm_path.mkdir(exist_ok=True, parents=True)\n",
    "\n",
    "    # Read and modify parameters file\n",
    "    parameters_filename = params_path / pm\n",
    "    result_path = output_pm_path / sample['case']\n",
    "    result_path.mkdir(exist_ok=True, parents=True)\n",
    "    \n",
    "    # field_value_pairs = [('WriteResultImage', 'true'), ('ResultImageFormat', 'nii.gz')]\n",
    "    field_value_pairs = [\n",
    "        ('WriteResultImage', 'true'),\n",
    "        ('ResultImageFormat', 'nii.gz'),\n",
    "        # ('Metric', ['AdvancedMattesMutualInformation', 'TransformRigidityPenalty'])\n",
    "        # MattesMutualInformationWithRigidityPenalty\n",
    "    ]\n",
    "    e_utils.modify_field_parameter_map(field_value_pairs, parameters_filename)\n",
    "\n",
    "    # Create temporary image files with the preprocessings included and \n",
    "    # also for the selected binary masks.\n",
    "    res_path = result_path / 'res_tmp'\n",
    "    res_path.mkdir(exist_ok=True, parents=True)\n",
    "\n",
    "    param_maps_to_use_ = [str(params_path / p) for p in param_maps_to_use] \n",
    "    # Inhale\n",
    "    i_temp_path = res_path / 'i_img.nii.gz'\n",
    "    save_img_from_array_using_metadata(\n",
    "        np.moveaxis(sample['i_img'], [0,1,2], [2,1,0]), sample['ref_metadata'], i_temp_path)\n",
    "    i_body_mask_temp_path = res_path / 'i_body_mask_img.nii.gz'\n",
    "    save_img_from_array_using_metadata(\n",
    "        np.moveaxis(sample['i_body_mask'], [0,1,2], [2,1,0]), sample['ref_metadata'], i_body_mask_temp_path)\n",
    "    i_lungs_mask_temp_path = res_path / 'i_lungs_mask_img.nii.gz'\n",
    "    save_img_from_array_using_metadata(\n",
    "        np.moveaxis(sample['i_lung_mask'], [0,1,2], [2,1,0]), sample['ref_metadata'], i_lungs_mask_temp_path)\n",
    "\n",
    "    # Exhales\n",
    "    e_temp_path = res_path / 'e_img.nii.gz'\n",
    "    save_img_from_array_using_metadata(\n",
    "        np.moveaxis(sample['e_img'], [0,1,2], [2,1,0]), sample['ref_metadata'], e_temp_path)\n",
    "    e_body_mask_temp_path = res_path / 'e_body_mask_img.nii.gz'\n",
    "    save_img_from_array_using_metadata(\n",
    "        np.moveaxis(sample['e_body_mask'], [0,1,2], [2,1,0]), sample['ref_metadata'], e_body_mask_temp_path)\n",
    "    e_lungs_mask_temp_path = res_path / 'e_lungs_mask_img.nii.gz'\n",
    "    save_img_from_array_using_metadata(\n",
    "        np.moveaxis(sample['e_lung_mask'], [0,1,2], [2,1,0]), sample['ref_metadata'], e_lungs_mask_temp_path)\n",
    "\n",
    "    # Register\n",
    "    print('Estimating transformation...')\n",
    "    start = time.time()\n",
    "    transform_map_path = e_utils.elastix_wrapper(\n",
    "        e_temp_path, i_temp_path, res_path.parent, param_maps_to_use_,\n",
    "        e_body_mask_temp_path, i_body_mask_temp_path, verbose=False, keep_just_useful_files=False\n",
    "    )\n",
    "    print(f'Reg time: {time.time()-start}')\n",
    "    case_path = Path(sample['i_img_path']).parent\n",
    "    \n",
    "    name = f\"{sample['case']}_300_iBH_xyz_r1.txt\"\n",
    "    lm_points_filepath = case_path / name\n",
    "\n",
    "    # Correct transformation parameters file\n",
    "    field_value_pairs = [\n",
    "        ('ResultImageFormat', 'nii.gz'),\n",
    "        ('ResultImagePixelType', \"float\"),\n",
    "        # ('FinalBSplineInterpolationorder', '0')\n",
    "    ]\n",
    "    e_utils.modify_field_parameter_map(field_value_pairs, transform_map_path)\n",
    "\n",
    "    # Transform image\n",
    "    print('Transforming points...')\n",
    "    lm_out_filepath = res_path.parent / f'r_{name}'\n",
    "    e_utils.transformix_wrapper(\n",
    "        lm_points_filepath, lm_out_filepath, transform_map_path,\n",
    "        points=True, verbose=False, keep_just_useful_files=False)\n",
    "    \n",
    "    \n",
    "    # Get transformed landmarks positions\n",
    "    landmarks = pd.read_csv(lm_out_filepath, header=None, sep='\\t |\\t', engine='python')\n",
    "    landmarks.columns = ['point', 'idx', 'input_index', 'input_point', 'ouput_index', 'ouput_point', 'def']\n",
    "    landmarks_input = [lm[-4:-1] for lm in np.asarray(landmarks.input_index.str.split(' '))]\n",
    "    landmarks_input = np.asarray(landmarks_input).astype('int')\n",
    "\n",
    "    landmarks = get_landmarks_array_from_txt_file(lm_out_filepath)\n",
    "    \n",
    "    # Get the TRE\n",
    "    tre = target_registration_error(landmarks_input, sample['e_landmark_pts'], sample['ref_metadata']['spacing'])\n",
    "    print(f'TRE estimated: {tre}')\n",
    "    tre = target_registration_error(landmarks, sample['e_landmark_pts'], sample['ref_metadata']['spacing'])\n",
    "    print(f'TRE estimated: {tre}')\n",
    "    tre_gt = target_registration_error(sample['i_landmark_pts'], sample['e_landmark_pts'], sample['ref_metadata']['spacing'])\n",
    "    print(f'Initial displacement: {tre_gt}')\n",
    "    print(f'Initial displacement GT: {sample[\"disp_mean\"]}{sample[\"disp_mean\"]}')\n",
    "    tres.append(tre)\n",
    "\n",
    "print(tres)"
   ]
  },
  {
   "cell_type": "code",
   "execution_count": null,
   "metadata": {},
   "outputs": [],
   "source": [
    "-f /home/jseia/Desktop/MAIA/classes/spain/mira/final_project/mira_final_project/data/dir_lab_copd/copd1/copd1_eBHCT_lm.nii.gz -m /home/jseia/Desktop/MAIA/classes/spain/mira/final_project/mira_final_project/data/dir_lab_copd/copd1/copd1_iBHCT_lm.nii.gz -fMask /home/jseia/Desktop/MAIA/classes/spain/mira/final_project/mira_final_project/experiments/elastix/Parameters.Par0008.elastic/copd1/res_tmp/e_body_mask_img.nii.g -mMask /home/jseia/Desktop/MAIA/classes/spain/mira/final_project/mira_final_project/experiments/elastix/Parameters.Par0008.elastic/copd1/res_tmp/i_body_mask_img.nii.g -out /home/jseia/Desktop/MAIA/classes/spain/mira/final_project/mira_final_project/experiments/elastix/Parameters.Par0008.elastic/copd1/res_tmp_/ -p /home/jseia/Desktop/MAIA/classes/spain/mira/final_project/mira_final_project/elastix/parameter_maps/Par0008/Parameters.Par0008.affine.txt -p /home/jseia/Desktop/MAIA/classes/spain/mira/final_project/mira_final_project/elastix/parameter_maps/Par0008/Parameters.Par0008.elastic.txt,"
   ]
  },
  {
   "cell_type": "code",
   "execution_count": 5,
   "metadata": {},
   "outputs": [
    {
     "ename": "IndentationError",
     "evalue": "unexpected indent (1051239367.py, line 5)",
     "output_type": "error",
     "traceback": [
      "\u001b[0;36m  File \u001b[0;32m\"/tmp/ipykernel_33265/1051239367.py\"\u001b[0;36m, line \u001b[0;32m5\u001b[0m\n\u001b[0;31m    [(48.94, 21.16), (36.44, 10.37), (22.75, 13.28), (57.97, 28.67)]\u001b[0m\n\u001b[0m    ^\u001b[0m\n\u001b[0;31mIndentationError\u001b[0m\u001b[0;31m:\u001b[0m unexpected indent\n"
     ]
    }
   ],
   "source": [
    "# Par 0007:\n",
    "    # No masks\n",
    "    \n",
    "    # Body masks\n",
    "    [(48.94, 21.16), (36.44, 10.37), (22.75, 13.28), (57.97, 28.67)]\n",
    "    \n",
    "    # Lung masks\n",
    "\n",
    "    # Coarse:\n",
    "    [(48.72, 21.15), (35.26, 10.27), (23.02, 13.39), (57.4, 27.62)]\n",
    "\n",
    "\n",
    "# Par0003:\n",
    "    # FG\n",
    "        # R8\n",
    "            # body mask\n",
    "\n",
    "            # lung mask\n",
    "\n",
    "            # no mask\n",
    "\n",
    "        # R6\n",
    "            # body mask\n",
    "\n",
    "            # lung mask\n",
    "\n",
    "            # no mask\n",
    "\n",
    "        # R4\n",
    "            # body mask\n",
    "\n",
    "            # lung mask\n",
    "\n",
    "            # no mask\n",
    "\n",
    "        # R2\n",
    "            # body mask\n",
    "                [(47.39, 17.79), (28.49, 7.52), (23.91, 12.89), (61.77, 28.07)]\n",
    "            # lung mask\n",
    "\n",
    "            # no mask\n",
    "        # R1:\n",
    "            [(47.0, 17.27), (28.19, 7.58), (23.59, 12.8), (61.29, 27.85)]   \n",
    "        # Affine:\n",
    "            [(46.87, 16.64), (28.0, 7.32), (23.05, 12.58), (60.96, 27.78)]\n",
    "            \n",
    "            \n",
    "        [(48.75, 20.33), (33.37, 7.96), (24.37, 12.94), (62.32, 28.63)]\n"
   ]
  }
 ],
 "metadata": {
  "kernelspec": {
   "display_name": "Python 3.9.13 ('mira')",
   "language": "python",
   "name": "python3"
  },
  "language_info": {
   "codemirror_mode": {
    "name": "ipython",
    "version": 3
   },
   "file_extension": ".py",
   "mimetype": "text/x-python",
   "name": "python",
   "nbconvert_exporter": "python",
   "pygments_lexer": "ipython3",
   "version": "3.9.13"
  },
  "orig_nbformat": 4,
  "vscode": {
   "interpreter": {
    "hash": "7113362d7bd43382b67f366a4c99867010345ad6310f4c3e6871fdbffb36624a"
   }
  }
 },
 "nbformat": 4,
 "nbformat_minor": 2
}
